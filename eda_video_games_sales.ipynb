{
 "cells": [
  {
   "cell_type": "markdown",
   "metadata": {},
   "source": [
    "# Exploratory Data Analysis on Video Games Sales Dataset\n",
    "\n",
    "- This is a personal project for the online course [Data Analysis with Python: Zero to Pandas](https://jovian.ai/learn/data-analysis-with-python-zero-to-pandas).\n",
    "- In this project, I used Python open-source libraries `NumPy`, `Pandas`, `Matplotlib`, `seaborn`.\n",
    "- As a learner of data analysis/data science and also a video game player, I choose the video games sales dataset to perform exploratory data analysis. Besides I need a close-to-business-world dataset to practice my Python skills, I thought this topic would be interesting and I was also excited to find some insights into video games and related businesses. \n",
    "- I would like to take this project as a showcase of my Python analysis skills. And at the same time, I would love to hear questions, comments, ideas, or feedback from readers. "
   ]
  },
  {
   "cell_type": "markdown",
   "metadata": {},
   "source": [
    "## By reading this notebook, you will know (I hope):\n",
    "- Some usages and examples of some common-use Python libraries and functions. \n",
    "- The basic process of exploratory data analysis. \n",
    "- Some ideas of how to handle and visualize different categories of data. \n",
    "- Some insights into the global video games and related businesses. \n",
    "- Some interesting facts of video games. "
   ]
  },
  {
   "cell_type": "markdown",
   "metadata": {},
   "source": [
    "## Dataset Infomation\n",
    "\n",
    "Before we actually started, the very first thing I should do (I hope you can do also) is to understand the dataset we will use. \n",
    "\n",
    "The description of the source dataset, these 16 columns/variables are defined as follow:\n",
    "\n",
    ">- `Name` - The game's title\n",
    ">- `Platform` - Platform of the games release (i.e. PC, PS2, Wii, Xbox360 etc.)\n",
    ">- `Year_of_Release` - Year of the game's release\n",
    ">- `Genre` - Genre of the game\n",
    ">- `Publisher` - Publisher of the game\n",
    ">- `NA_Sales` - Cumulative Units sold in North America since the game was released (in millions)\n",
    ">- `EU_Sales` - Cumulative Units sold in Europe since the game was released (in millions)\n",
    ">- `JP_Sales` - Cumulative Units sold in Japan since the game was released (in millions)\n",
    ">- `Other_Sales` - Cumulative Units sold in the rest of the world since the game was released (in millions)\n",
    ">- `Global_Sales` - Cumulative Units sold worldwide since the game was released (in millions)\n",
    ">- `Critic_Score` - Weighted average score by **Metacritic** base on all published critic reviews (0-100 scale)\n",
    ">- `Critic_Count` - The number of published critic reviews used in the `Critic_Score`\n",
    ">- `User_Score` - Average score by users reviews on **Metacritic** (0-10 scale)\n",
    ">- `User_Count` - The number of scores used in the `User_Score`\n",
    ">-`Developer` - Developer of the game\n",
    ">- `Rating` - The ESRB rating of the game. ([Ratings Guide](https://www.esrb.org/ratings-guide/))\n",
    "\n",
    "**Note: All data are as of December 22nd, 2016.**\n",
    "\n",
    "**Source:**\\\n",
    "[Video Games Sales Dataset](https://www.kaggle.com/sidtwr/videogames-sales-dataset?select=Video_Games_Sales_as_at_22_Dec_2016.csv)\\\n",
    "[Metascore](https://www.metacritic.com/about-metascores)\n"
   ]
  },
  {
   "cell_type": "markdown",
   "metadata": {},
   "source": [
    "## Downloading the Dataset\n",
    "\n",
    "- Because the source dataset is contributed by the user from [Kaggle](https://www.kaggle.com), I will download it to my local directory first. "
   ]
  },
  {
   "cell_type": "markdown",
   "metadata": {},
   "source": [
    "Let me import the `os` library and create a new directory called `data` where later I can store the dataset. "
   ]
  },
  {
   "cell_type": "code",
   "execution_count": 1,
   "metadata": {},
   "outputs": [],
   "source": [
    "import os\n",
    "os.makedirs('./data', exist_ok = True)"
   ]
  },
  {
   "cell_type": "markdown",
   "metadata": {},
   "source": [
    "Then download the `Video Games Sales Dataset`, which was contributed by `SID_TWR` from `Kaggle`, using the `download` function from `opendatasets` library. \n",
    "\n",
    "**Source:**\\\n",
    "[**Video Games Sales Dataset**](https://www.kaggle.com/sidtwr/videogames-sales-dataset?select=Video_Games_Sales_as_at_22_Dec_2016.csv)"
   ]
  },
  {
   "cell_type": "code",
   "execution_count": 2,
   "metadata": {},
   "outputs": [],
   "source": [
    "import opendatasets as od"
   ]
  },
  {
   "cell_type": "code",
   "execution_count": 3,
   "metadata": {},
   "outputs": [
    {
     "name": "stderr",
     "output_type": "stream",
     "text": [
      "100%|██████████| 507k/507k [00:00<00:00, 3.39MB/s]"
     ]
    },
    {
     "name": "stdout",
     "output_type": "stream",
     "text": [
      "Downloading videogames-sales-dataset.zip to ./data/videogames-sales-dataset\n",
      "\n"
     ]
    },
    {
     "name": "stderr",
     "output_type": "stream",
     "text": [
      "\n"
     ]
    }
   ],
   "source": [
    "url = 'https://www.kaggle.com/sidtwr/videogames-sales-dataset?select=Video_Games_Sales_as_at_22_Dec_2016.csv'\n",
    "od.download(url, './data', force = True)"
   ]
  },
  {
   "cell_type": "markdown",
   "metadata": {},
   "source": [
    "Let's check what has been downloaded and extracted using the `listdir` function. "
   ]
  },
  {
   "cell_type": "code",
   "execution_count": 4,
   "metadata": {},
   "outputs": [
    {
     "data": {
      "text/plain": [
       "['PS4_GamesSales.csv',\n",
       " 'Video_Games_Sales_as_at_22_Dec_2016.csv',\n",
       " 'XboxOne_GameSales.csv']"
      ]
     },
     "execution_count": 4,
     "metadata": {},
     "output_type": "execute_result"
    }
   ],
   "source": [
    "os.listdir('./data/videogames-sales-dataset')"
   ]
  },
  {
   "cell_type": "markdown",
   "metadata": {},
   "source": [
    "There are three csv files and I will maily focus on the `Video_Games_Sales_as_at_22_Dec_2016.csv` since it included not only the sales data but also the score data by critics and users on [**Metacritic**](https://www.metacritic.com). "
   ]
  },
  {
   "cell_type": "markdown",
   "metadata": {},
   "source": [
    "## Data Preparation and Cleaning\n",
    "\n",
    "- The first thing I would like to do before the data analysis is to read and load the dataset into Pandas `DataFrame`, then try to know and understand the dataset by getting some basic information about it. \n",
    "- Then do some data cleaning and handle the invalid values as well. "
   ]
  },
  {
   "cell_type": "markdown",
   "metadata": {},
   "source": [
    "Before load and read the dataset into a dataframe, we should install the `NumPy` and `Pandas` library. "
   ]
  },
  {
   "cell_type": "code",
   "execution_count": 5,
   "metadata": {},
   "outputs": [],
   "source": [
    "!pip install numpy --upgrade --quiet"
   ]
  },
  {
   "cell_type": "code",
   "execution_count": 6,
   "metadata": {},
   "outputs": [],
   "source": [
    "!pip install pandas --upgrade --quiet"
   ]
  },
  {
   "cell_type": "markdown",
   "metadata": {},
   "source": [
    "Then import both `NumPy` and `Pandas` library and alias them as `np` and `pd` respectively. "
   ]
  },
  {
   "cell_type": "code",
   "execution_count": 7,
   "metadata": {},
   "outputs": [],
   "source": [
    "import numpy as np, pandas as pd"
   ]
  },
  {
   "cell_type": "markdown",
   "metadata": {},
   "source": [
    "Then read the csv file using `read_csv` function from `Pandas` library.\\\n",
    "The file will be read and stored as a Pandas `DataFrame` object and I name it `vgs_df`."
   ]
  },
  {
   "cell_type": "code",
   "execution_count": 8,
   "metadata": {},
   "outputs": [],
   "source": [
    "vgs_df = pd.read_csv('./data/videogames-sales-dataset/Video_Games_Sales_as_at_22_Dec_2016.csv')"
   ]
  },
  {
   "cell_type": "markdown",
   "metadata": {},
   "source": [
    "We can check the `vgs_df` dataframe with some functions for more basic information. "
   ]
  },
  {
   "cell_type": "code",
   "execution_count": 9,
   "metadata": {},
   "outputs": [
    {
     "data": {
      "text/plain": [
       "(16719, 16)"
      ]
     },
     "execution_count": 9,
     "metadata": {},
     "output_type": "execute_result"
    }
   ],
   "source": [
    "# check the number of rows and columns\n",
    "vgs_df.shape"
   ]
  },
  {
   "cell_type": "markdown",
   "metadata": {},
   "source": [
    "`vgs_df` has 16,719 rows and 16 columns which means there are 16,719 observations and 16 variables in the dataframe."
   ]
  },
  {
   "cell_type": "code",
   "execution_count": 10,
   "metadata": {},
   "outputs": [
    {
     "data": {
      "text/html": [
       "<div>\n",
       "<style scoped>\n",
       "    .dataframe tbody tr th:only-of-type {\n",
       "        vertical-align: middle;\n",
       "    }\n",
       "\n",
       "    .dataframe tbody tr th {\n",
       "        vertical-align: top;\n",
       "    }\n",
       "\n",
       "    .dataframe thead th {\n",
       "        text-align: right;\n",
       "    }\n",
       "</style>\n",
       "<table border=\"1\" class=\"dataframe\">\n",
       "  <thead>\n",
       "    <tr style=\"text-align: right;\">\n",
       "      <th></th>\n",
       "      <th>Name</th>\n",
       "      <th>Platform</th>\n",
       "      <th>Year_of_Release</th>\n",
       "      <th>Genre</th>\n",
       "      <th>Publisher</th>\n",
       "      <th>NA_Sales</th>\n",
       "      <th>EU_Sales</th>\n",
       "      <th>JP_Sales</th>\n",
       "      <th>Other_Sales</th>\n",
       "      <th>Global_Sales</th>\n",
       "      <th>Critic_Score</th>\n",
       "      <th>Critic_Count</th>\n",
       "      <th>User_Score</th>\n",
       "      <th>User_Count</th>\n",
       "      <th>Developer</th>\n",
       "      <th>Rating</th>\n",
       "    </tr>\n",
       "  </thead>\n",
       "  <tbody>\n",
       "    <tr>\n",
       "      <th>0</th>\n",
       "      <td>Wii Sports</td>\n",
       "      <td>Wii</td>\n",
       "      <td>2006.0</td>\n",
       "      <td>Sports</td>\n",
       "      <td>Nintendo</td>\n",
       "      <td>41.36</td>\n",
       "      <td>28.96</td>\n",
       "      <td>3.77</td>\n",
       "      <td>8.45</td>\n",
       "      <td>82.53</td>\n",
       "      <td>76.0</td>\n",
       "      <td>51.0</td>\n",
       "      <td>8.0</td>\n",
       "      <td>322.0</td>\n",
       "      <td>Nintendo</td>\n",
       "      <td>E</td>\n",
       "    </tr>\n",
       "    <tr>\n",
       "      <th>1</th>\n",
       "      <td>Super Mario Bros.</td>\n",
       "      <td>NES</td>\n",
       "      <td>1985.0</td>\n",
       "      <td>Platform</td>\n",
       "      <td>Nintendo</td>\n",
       "      <td>29.08</td>\n",
       "      <td>3.58</td>\n",
       "      <td>6.81</td>\n",
       "      <td>0.77</td>\n",
       "      <td>40.24</td>\n",
       "      <td>NaN</td>\n",
       "      <td>NaN</td>\n",
       "      <td>NaN</td>\n",
       "      <td>NaN</td>\n",
       "      <td>NaN</td>\n",
       "      <td>NaN</td>\n",
       "    </tr>\n",
       "    <tr>\n",
       "      <th>2</th>\n",
       "      <td>Mario Kart Wii</td>\n",
       "      <td>Wii</td>\n",
       "      <td>2008.0</td>\n",
       "      <td>Racing</td>\n",
       "      <td>Nintendo</td>\n",
       "      <td>15.68</td>\n",
       "      <td>12.76</td>\n",
       "      <td>3.79</td>\n",
       "      <td>3.29</td>\n",
       "      <td>35.52</td>\n",
       "      <td>82.0</td>\n",
       "      <td>73.0</td>\n",
       "      <td>8.3</td>\n",
       "      <td>709.0</td>\n",
       "      <td>Nintendo</td>\n",
       "      <td>E</td>\n",
       "    </tr>\n",
       "    <tr>\n",
       "      <th>3</th>\n",
       "      <td>Wii Sports Resort</td>\n",
       "      <td>Wii</td>\n",
       "      <td>2009.0</td>\n",
       "      <td>Sports</td>\n",
       "      <td>Nintendo</td>\n",
       "      <td>15.61</td>\n",
       "      <td>10.93</td>\n",
       "      <td>3.28</td>\n",
       "      <td>2.95</td>\n",
       "      <td>32.77</td>\n",
       "      <td>80.0</td>\n",
       "      <td>73.0</td>\n",
       "      <td>8.0</td>\n",
       "      <td>192.0</td>\n",
       "      <td>Nintendo</td>\n",
       "      <td>E</td>\n",
       "    </tr>\n",
       "    <tr>\n",
       "      <th>4</th>\n",
       "      <td>Pokemon Red/Pokemon Blue</td>\n",
       "      <td>GB</td>\n",
       "      <td>1996.0</td>\n",
       "      <td>Role-Playing</td>\n",
       "      <td>Nintendo</td>\n",
       "      <td>11.27</td>\n",
       "      <td>8.89</td>\n",
       "      <td>10.22</td>\n",
       "      <td>1.00</td>\n",
       "      <td>31.37</td>\n",
       "      <td>NaN</td>\n",
       "      <td>NaN</td>\n",
       "      <td>NaN</td>\n",
       "      <td>NaN</td>\n",
       "      <td>NaN</td>\n",
       "      <td>NaN</td>\n",
       "    </tr>\n",
       "    <tr>\n",
       "      <th>5</th>\n",
       "      <td>Tetris</td>\n",
       "      <td>GB</td>\n",
       "      <td>1989.0</td>\n",
       "      <td>Puzzle</td>\n",
       "      <td>Nintendo</td>\n",
       "      <td>23.20</td>\n",
       "      <td>2.26</td>\n",
       "      <td>4.22</td>\n",
       "      <td>0.58</td>\n",
       "      <td>30.26</td>\n",
       "      <td>NaN</td>\n",
       "      <td>NaN</td>\n",
       "      <td>NaN</td>\n",
       "      <td>NaN</td>\n",
       "      <td>NaN</td>\n",
       "      <td>NaN</td>\n",
       "    </tr>\n",
       "    <tr>\n",
       "      <th>6</th>\n",
       "      <td>New Super Mario Bros.</td>\n",
       "      <td>DS</td>\n",
       "      <td>2006.0</td>\n",
       "      <td>Platform</td>\n",
       "      <td>Nintendo</td>\n",
       "      <td>11.28</td>\n",
       "      <td>9.14</td>\n",
       "      <td>6.50</td>\n",
       "      <td>2.88</td>\n",
       "      <td>29.80</td>\n",
       "      <td>89.0</td>\n",
       "      <td>65.0</td>\n",
       "      <td>8.5</td>\n",
       "      <td>431.0</td>\n",
       "      <td>Nintendo</td>\n",
       "      <td>E</td>\n",
       "    </tr>\n",
       "    <tr>\n",
       "      <th>7</th>\n",
       "      <td>Wii Play</td>\n",
       "      <td>Wii</td>\n",
       "      <td>2006.0</td>\n",
       "      <td>Misc</td>\n",
       "      <td>Nintendo</td>\n",
       "      <td>13.96</td>\n",
       "      <td>9.18</td>\n",
       "      <td>2.93</td>\n",
       "      <td>2.84</td>\n",
       "      <td>28.92</td>\n",
       "      <td>58.0</td>\n",
       "      <td>41.0</td>\n",
       "      <td>6.6</td>\n",
       "      <td>129.0</td>\n",
       "      <td>Nintendo</td>\n",
       "      <td>E</td>\n",
       "    </tr>\n",
       "    <tr>\n",
       "      <th>8</th>\n",
       "      <td>New Super Mario Bros. Wii</td>\n",
       "      <td>Wii</td>\n",
       "      <td>2009.0</td>\n",
       "      <td>Platform</td>\n",
       "      <td>Nintendo</td>\n",
       "      <td>14.44</td>\n",
       "      <td>6.94</td>\n",
       "      <td>4.70</td>\n",
       "      <td>2.24</td>\n",
       "      <td>28.32</td>\n",
       "      <td>87.0</td>\n",
       "      <td>80.0</td>\n",
       "      <td>8.4</td>\n",
       "      <td>594.0</td>\n",
       "      <td>Nintendo</td>\n",
       "      <td>E</td>\n",
       "    </tr>\n",
       "    <tr>\n",
       "      <th>9</th>\n",
       "      <td>Duck Hunt</td>\n",
       "      <td>NES</td>\n",
       "      <td>1984.0</td>\n",
       "      <td>Shooter</td>\n",
       "      <td>Nintendo</td>\n",
       "      <td>26.93</td>\n",
       "      <td>0.63</td>\n",
       "      <td>0.28</td>\n",
       "      <td>0.47</td>\n",
       "      <td>28.31</td>\n",
       "      <td>NaN</td>\n",
       "      <td>NaN</td>\n",
       "      <td>NaN</td>\n",
       "      <td>NaN</td>\n",
       "      <td>NaN</td>\n",
       "      <td>NaN</td>\n",
       "    </tr>\n",
       "  </tbody>\n",
       "</table>\n",
       "</div>"
      ],
      "text/plain": [
       "                        Name Platform  Year_of_Release         Genre  \\\n",
       "0                 Wii Sports      Wii           2006.0        Sports   \n",
       "1          Super Mario Bros.      NES           1985.0      Platform   \n",
       "2             Mario Kart Wii      Wii           2008.0        Racing   \n",
       "3          Wii Sports Resort      Wii           2009.0        Sports   \n",
       "4   Pokemon Red/Pokemon Blue       GB           1996.0  Role-Playing   \n",
       "5                     Tetris       GB           1989.0        Puzzle   \n",
       "6      New Super Mario Bros.       DS           2006.0      Platform   \n",
       "7                   Wii Play      Wii           2006.0          Misc   \n",
       "8  New Super Mario Bros. Wii      Wii           2009.0      Platform   \n",
       "9                  Duck Hunt      NES           1984.0       Shooter   \n",
       "\n",
       "  Publisher  NA_Sales  EU_Sales  JP_Sales  Other_Sales  Global_Sales  \\\n",
       "0  Nintendo     41.36     28.96      3.77         8.45         82.53   \n",
       "1  Nintendo     29.08      3.58      6.81         0.77         40.24   \n",
       "2  Nintendo     15.68     12.76      3.79         3.29         35.52   \n",
       "3  Nintendo     15.61     10.93      3.28         2.95         32.77   \n",
       "4  Nintendo     11.27      8.89     10.22         1.00         31.37   \n",
       "5  Nintendo     23.20      2.26      4.22         0.58         30.26   \n",
       "6  Nintendo     11.28      9.14      6.50         2.88         29.80   \n",
       "7  Nintendo     13.96      9.18      2.93         2.84         28.92   \n",
       "8  Nintendo     14.44      6.94      4.70         2.24         28.32   \n",
       "9  Nintendo     26.93      0.63      0.28         0.47         28.31   \n",
       "\n",
       "   Critic_Score  Critic_Count  User_Score  User_Count Developer Rating  \n",
       "0          76.0          51.0         8.0       322.0  Nintendo      E  \n",
       "1           NaN           NaN         NaN         NaN       NaN    NaN  \n",
       "2          82.0          73.0         8.3       709.0  Nintendo      E  \n",
       "3          80.0          73.0         8.0       192.0  Nintendo      E  \n",
       "4           NaN           NaN         NaN         NaN       NaN    NaN  \n",
       "5           NaN           NaN         NaN         NaN       NaN    NaN  \n",
       "6          89.0          65.0         8.5       431.0  Nintendo      E  \n",
       "7          58.0          41.0         6.6       129.0  Nintendo      E  \n",
       "8          87.0          80.0         8.4       594.0  Nintendo      E  \n",
       "9           NaN           NaN         NaN         NaN       NaN    NaN  "
      ]
     },
     "execution_count": 10,
     "metadata": {},
     "output_type": "execute_result"
    }
   ],
   "source": [
    "# check the top 10 rows\n",
    "vgs_df.head(10) "
   ]
  },
  {
   "cell_type": "code",
   "execution_count": 11,
   "metadata": {},
   "outputs": [
    {
     "data": {
      "text/html": [
       "<div>\n",
       "<style scoped>\n",
       "    .dataframe tbody tr th:only-of-type {\n",
       "        vertical-align: middle;\n",
       "    }\n",
       "\n",
       "    .dataframe tbody tr th {\n",
       "        vertical-align: top;\n",
       "    }\n",
       "\n",
       "    .dataframe thead th {\n",
       "        text-align: right;\n",
       "    }\n",
       "</style>\n",
       "<table border=\"1\" class=\"dataframe\">\n",
       "  <thead>\n",
       "    <tr style=\"text-align: right;\">\n",
       "      <th></th>\n",
       "      <th>Name</th>\n",
       "      <th>Platform</th>\n",
       "      <th>Year_of_Release</th>\n",
       "      <th>Genre</th>\n",
       "      <th>Publisher</th>\n",
       "      <th>NA_Sales</th>\n",
       "      <th>EU_Sales</th>\n",
       "      <th>JP_Sales</th>\n",
       "      <th>Other_Sales</th>\n",
       "      <th>Global_Sales</th>\n",
       "      <th>Critic_Score</th>\n",
       "      <th>Critic_Count</th>\n",
       "      <th>User_Score</th>\n",
       "      <th>User_Count</th>\n",
       "      <th>Developer</th>\n",
       "      <th>Rating</th>\n",
       "    </tr>\n",
       "  </thead>\n",
       "  <tbody>\n",
       "    <tr>\n",
       "      <th>16709</th>\n",
       "      <td>15 Days</td>\n",
       "      <td>PC</td>\n",
       "      <td>2009.0</td>\n",
       "      <td>Adventure</td>\n",
       "      <td>DTP Entertainment</td>\n",
       "      <td>0.00</td>\n",
       "      <td>0.01</td>\n",
       "      <td>0.00</td>\n",
       "      <td>0.0</td>\n",
       "      <td>0.01</td>\n",
       "      <td>63.0</td>\n",
       "      <td>6.0</td>\n",
       "      <td>5.8</td>\n",
       "      <td>8.0</td>\n",
       "      <td>DTP Entertainment</td>\n",
       "      <td>NaN</td>\n",
       "    </tr>\n",
       "    <tr>\n",
       "      <th>16710</th>\n",
       "      <td>Men in Black II: Alien Escape</td>\n",
       "      <td>GC</td>\n",
       "      <td>2003.0</td>\n",
       "      <td>Shooter</td>\n",
       "      <td>Infogrames</td>\n",
       "      <td>0.01</td>\n",
       "      <td>0.00</td>\n",
       "      <td>0.00</td>\n",
       "      <td>0.0</td>\n",
       "      <td>0.01</td>\n",
       "      <td>NaN</td>\n",
       "      <td>NaN</td>\n",
       "      <td>NaN</td>\n",
       "      <td>NaN</td>\n",
       "      <td>Atari</td>\n",
       "      <td>T</td>\n",
       "    </tr>\n",
       "    <tr>\n",
       "      <th>16711</th>\n",
       "      <td>Aiyoku no Eustia</td>\n",
       "      <td>PSV</td>\n",
       "      <td>2014.0</td>\n",
       "      <td>Misc</td>\n",
       "      <td>dramatic create</td>\n",
       "      <td>0.00</td>\n",
       "      <td>0.00</td>\n",
       "      <td>0.01</td>\n",
       "      <td>0.0</td>\n",
       "      <td>0.01</td>\n",
       "      <td>NaN</td>\n",
       "      <td>NaN</td>\n",
       "      <td>NaN</td>\n",
       "      <td>NaN</td>\n",
       "      <td>NaN</td>\n",
       "      <td>NaN</td>\n",
       "    </tr>\n",
       "    <tr>\n",
       "      <th>16712</th>\n",
       "      <td>Woody Woodpecker in Crazy Castle 5</td>\n",
       "      <td>GBA</td>\n",
       "      <td>2002.0</td>\n",
       "      <td>Platform</td>\n",
       "      <td>Kemco</td>\n",
       "      <td>0.01</td>\n",
       "      <td>0.00</td>\n",
       "      <td>0.00</td>\n",
       "      <td>0.0</td>\n",
       "      <td>0.01</td>\n",
       "      <td>NaN</td>\n",
       "      <td>NaN</td>\n",
       "      <td>NaN</td>\n",
       "      <td>NaN</td>\n",
       "      <td>NaN</td>\n",
       "      <td>NaN</td>\n",
       "    </tr>\n",
       "    <tr>\n",
       "      <th>16713</th>\n",
       "      <td>SCORE International Baja 1000: The Official Game</td>\n",
       "      <td>PS2</td>\n",
       "      <td>2008.0</td>\n",
       "      <td>Racing</td>\n",
       "      <td>Activision</td>\n",
       "      <td>0.00</td>\n",
       "      <td>0.00</td>\n",
       "      <td>0.00</td>\n",
       "      <td>0.0</td>\n",
       "      <td>0.01</td>\n",
       "      <td>NaN</td>\n",
       "      <td>NaN</td>\n",
       "      <td>NaN</td>\n",
       "      <td>NaN</td>\n",
       "      <td>NaN</td>\n",
       "      <td>NaN</td>\n",
       "    </tr>\n",
       "    <tr>\n",
       "      <th>16714</th>\n",
       "      <td>Samurai Warriors: Sanada Maru</td>\n",
       "      <td>PS3</td>\n",
       "      <td>2016.0</td>\n",
       "      <td>Action</td>\n",
       "      <td>Tecmo Koei</td>\n",
       "      <td>0.00</td>\n",
       "      <td>0.00</td>\n",
       "      <td>0.01</td>\n",
       "      <td>0.0</td>\n",
       "      <td>0.01</td>\n",
       "      <td>NaN</td>\n",
       "      <td>NaN</td>\n",
       "      <td>NaN</td>\n",
       "      <td>NaN</td>\n",
       "      <td>NaN</td>\n",
       "      <td>NaN</td>\n",
       "    </tr>\n",
       "    <tr>\n",
       "      <th>16715</th>\n",
       "      <td>LMA Manager 2007</td>\n",
       "      <td>X360</td>\n",
       "      <td>2006.0</td>\n",
       "      <td>Sports</td>\n",
       "      <td>Codemasters</td>\n",
       "      <td>0.00</td>\n",
       "      <td>0.01</td>\n",
       "      <td>0.00</td>\n",
       "      <td>0.0</td>\n",
       "      <td>0.01</td>\n",
       "      <td>NaN</td>\n",
       "      <td>NaN</td>\n",
       "      <td>NaN</td>\n",
       "      <td>NaN</td>\n",
       "      <td>NaN</td>\n",
       "      <td>NaN</td>\n",
       "    </tr>\n",
       "    <tr>\n",
       "      <th>16716</th>\n",
       "      <td>Haitaka no Psychedelica</td>\n",
       "      <td>PSV</td>\n",
       "      <td>2016.0</td>\n",
       "      <td>Adventure</td>\n",
       "      <td>Idea Factory</td>\n",
       "      <td>0.00</td>\n",
       "      <td>0.00</td>\n",
       "      <td>0.01</td>\n",
       "      <td>0.0</td>\n",
       "      <td>0.01</td>\n",
       "      <td>NaN</td>\n",
       "      <td>NaN</td>\n",
       "      <td>NaN</td>\n",
       "      <td>NaN</td>\n",
       "      <td>NaN</td>\n",
       "      <td>NaN</td>\n",
       "    </tr>\n",
       "    <tr>\n",
       "      <th>16717</th>\n",
       "      <td>Spirits &amp; Spells</td>\n",
       "      <td>GBA</td>\n",
       "      <td>2003.0</td>\n",
       "      <td>Platform</td>\n",
       "      <td>Wanadoo</td>\n",
       "      <td>0.01</td>\n",
       "      <td>0.00</td>\n",
       "      <td>0.00</td>\n",
       "      <td>0.0</td>\n",
       "      <td>0.01</td>\n",
       "      <td>NaN</td>\n",
       "      <td>NaN</td>\n",
       "      <td>NaN</td>\n",
       "      <td>NaN</td>\n",
       "      <td>NaN</td>\n",
       "      <td>NaN</td>\n",
       "    </tr>\n",
       "    <tr>\n",
       "      <th>16718</th>\n",
       "      <td>Winning Post 8 2016</td>\n",
       "      <td>PSV</td>\n",
       "      <td>2016.0</td>\n",
       "      <td>Simulation</td>\n",
       "      <td>Tecmo Koei</td>\n",
       "      <td>0.00</td>\n",
       "      <td>0.00</td>\n",
       "      <td>0.01</td>\n",
       "      <td>0.0</td>\n",
       "      <td>0.01</td>\n",
       "      <td>NaN</td>\n",
       "      <td>NaN</td>\n",
       "      <td>NaN</td>\n",
       "      <td>NaN</td>\n",
       "      <td>NaN</td>\n",
       "      <td>NaN</td>\n",
       "    </tr>\n",
       "  </tbody>\n",
       "</table>\n",
       "</div>"
      ],
      "text/plain": [
       "                                                   Name Platform  \\\n",
       "16709                                           15 Days       PC   \n",
       "16710                     Men in Black II: Alien Escape       GC   \n",
       "16711                                  Aiyoku no Eustia      PSV   \n",
       "16712                Woody Woodpecker in Crazy Castle 5      GBA   \n",
       "16713  SCORE International Baja 1000: The Official Game      PS2   \n",
       "16714                     Samurai Warriors: Sanada Maru      PS3   \n",
       "16715                                  LMA Manager 2007     X360   \n",
       "16716                           Haitaka no Psychedelica      PSV   \n",
       "16717                                  Spirits & Spells      GBA   \n",
       "16718                               Winning Post 8 2016      PSV   \n",
       "\n",
       "       Year_of_Release       Genre          Publisher  NA_Sales  EU_Sales  \\\n",
       "16709           2009.0   Adventure  DTP Entertainment      0.00      0.01   \n",
       "16710           2003.0     Shooter         Infogrames      0.01      0.00   \n",
       "16711           2014.0        Misc    dramatic create      0.00      0.00   \n",
       "16712           2002.0    Platform              Kemco      0.01      0.00   \n",
       "16713           2008.0      Racing         Activision      0.00      0.00   \n",
       "16714           2016.0      Action         Tecmo Koei      0.00      0.00   \n",
       "16715           2006.0      Sports        Codemasters      0.00      0.01   \n",
       "16716           2016.0   Adventure       Idea Factory      0.00      0.00   \n",
       "16717           2003.0    Platform            Wanadoo      0.01      0.00   \n",
       "16718           2016.0  Simulation         Tecmo Koei      0.00      0.00   \n",
       "\n",
       "       JP_Sales  Other_Sales  Global_Sales  Critic_Score  Critic_Count  \\\n",
       "16709      0.00          0.0          0.01          63.0           6.0   \n",
       "16710      0.00          0.0          0.01           NaN           NaN   \n",
       "16711      0.01          0.0          0.01           NaN           NaN   \n",
       "16712      0.00          0.0          0.01           NaN           NaN   \n",
       "16713      0.00          0.0          0.01           NaN           NaN   \n",
       "16714      0.01          0.0          0.01           NaN           NaN   \n",
       "16715      0.00          0.0          0.01           NaN           NaN   \n",
       "16716      0.01          0.0          0.01           NaN           NaN   \n",
       "16717      0.00          0.0          0.01           NaN           NaN   \n",
       "16718      0.01          0.0          0.01           NaN           NaN   \n",
       "\n",
       "       User_Score  User_Count          Developer Rating  \n",
       "16709         5.8         8.0  DTP Entertainment    NaN  \n",
       "16710         NaN         NaN              Atari      T  \n",
       "16711         NaN         NaN                NaN    NaN  \n",
       "16712         NaN         NaN                NaN    NaN  \n",
       "16713         NaN         NaN                NaN    NaN  \n",
       "16714         NaN         NaN                NaN    NaN  \n",
       "16715         NaN         NaN                NaN    NaN  \n",
       "16716         NaN         NaN                NaN    NaN  \n",
       "16717         NaN         NaN                NaN    NaN  \n",
       "16718         NaN         NaN                NaN    NaN  "
      ]
     },
     "execution_count": 11,
     "metadata": {},
     "output_type": "execute_result"
    }
   ],
   "source": [
    "# # check the last 10 rows\n",
    "vgs_df.tail(10)"
   ]
  },
  {
   "cell_type": "code",
   "execution_count": 12,
   "metadata": {},
   "outputs": [
    {
     "data": {
      "text/html": [
       "<div>\n",
       "<style scoped>\n",
       "    .dataframe tbody tr th:only-of-type {\n",
       "        vertical-align: middle;\n",
       "    }\n",
       "\n",
       "    .dataframe tbody tr th {\n",
       "        vertical-align: top;\n",
       "    }\n",
       "\n",
       "    .dataframe thead th {\n",
       "        text-align: right;\n",
       "    }\n",
       "</style>\n",
       "<table border=\"1\" class=\"dataframe\">\n",
       "  <thead>\n",
       "    <tr style=\"text-align: right;\">\n",
       "      <th></th>\n",
       "      <th>Name</th>\n",
       "      <th>Platform</th>\n",
       "      <th>Year_of_Release</th>\n",
       "      <th>Genre</th>\n",
       "      <th>Publisher</th>\n",
       "      <th>NA_Sales</th>\n",
       "      <th>EU_Sales</th>\n",
       "      <th>JP_Sales</th>\n",
       "      <th>Other_Sales</th>\n",
       "      <th>Global_Sales</th>\n",
       "      <th>Critic_Score</th>\n",
       "      <th>Critic_Count</th>\n",
       "      <th>User_Score</th>\n",
       "      <th>User_Count</th>\n",
       "      <th>Developer</th>\n",
       "      <th>Rating</th>\n",
       "    </tr>\n",
       "  </thead>\n",
       "  <tbody>\n",
       "    <tr>\n",
       "      <th>7916</th>\n",
       "      <td>Tom Clancy's Splinter Cell: Blacklist</td>\n",
       "      <td>PC</td>\n",
       "      <td>2013.0</td>\n",
       "      <td>Action</td>\n",
       "      <td>Ubisoft</td>\n",
       "      <td>0.04</td>\n",
       "      <td>0.13</td>\n",
       "      <td>0.00</td>\n",
       "      <td>0.01</td>\n",
       "      <td>0.19</td>\n",
       "      <td>82.0</td>\n",
       "      <td>13.0</td>\n",
       "      <td>7.4</td>\n",
       "      <td>754.0</td>\n",
       "      <td>Ubisoft Toronto</td>\n",
       "      <td>M</td>\n",
       "    </tr>\n",
       "    <tr>\n",
       "      <th>7117</th>\n",
       "      <td>3rd Super Robot Wars Z Jigoku Hen</td>\n",
       "      <td>PS3</td>\n",
       "      <td>2014.0</td>\n",
       "      <td>Role-Playing</td>\n",
       "      <td>Namco Bandai Games</td>\n",
       "      <td>0.00</td>\n",
       "      <td>0.00</td>\n",
       "      <td>0.23</td>\n",
       "      <td>0.00</td>\n",
       "      <td>0.23</td>\n",
       "      <td>NaN</td>\n",
       "      <td>NaN</td>\n",
       "      <td>NaN</td>\n",
       "      <td>NaN</td>\n",
       "      <td>NaN</td>\n",
       "      <td>NaN</td>\n",
       "    </tr>\n",
       "    <tr>\n",
       "      <th>5193</th>\n",
       "      <td>Mobile Suit Z-Gundam</td>\n",
       "      <td>PS</td>\n",
       "      <td>1997.0</td>\n",
       "      <td>Action</td>\n",
       "      <td>Namco Bandai Games</td>\n",
       "      <td>0.00</td>\n",
       "      <td>0.00</td>\n",
       "      <td>0.34</td>\n",
       "      <td>0.02</td>\n",
       "      <td>0.36</td>\n",
       "      <td>NaN</td>\n",
       "      <td>NaN</td>\n",
       "      <td>NaN</td>\n",
       "      <td>NaN</td>\n",
       "      <td>NaN</td>\n",
       "      <td>NaN</td>\n",
       "    </tr>\n",
       "    <tr>\n",
       "      <th>8498</th>\n",
       "      <td>Guilty Gear Judgment</td>\n",
       "      <td>PSP</td>\n",
       "      <td>2006.0</td>\n",
       "      <td>Fighting</td>\n",
       "      <td>Majesco Entertainment</td>\n",
       "      <td>0.13</td>\n",
       "      <td>0.00</td>\n",
       "      <td>0.02</td>\n",
       "      <td>0.01</td>\n",
       "      <td>0.16</td>\n",
       "      <td>77.0</td>\n",
       "      <td>17.0</td>\n",
       "      <td>6.6</td>\n",
       "      <td>8.0</td>\n",
       "      <td>Arc System Works</td>\n",
       "      <td>T</td>\n",
       "    </tr>\n",
       "    <tr>\n",
       "      <th>5957</th>\n",
       "      <td>Kurohyou: Ryu ga Gotoku Shinshou</td>\n",
       "      <td>PSP</td>\n",
       "      <td>2010.0</td>\n",
       "      <td>Adventure</td>\n",
       "      <td>Sega</td>\n",
       "      <td>0.00</td>\n",
       "      <td>0.00</td>\n",
       "      <td>0.29</td>\n",
       "      <td>0.00</td>\n",
       "      <td>0.29</td>\n",
       "      <td>NaN</td>\n",
       "      <td>NaN</td>\n",
       "      <td>NaN</td>\n",
       "      <td>NaN</td>\n",
       "      <td>NaN</td>\n",
       "      <td>NaN</td>\n",
       "    </tr>\n",
       "    <tr>\n",
       "      <th>12154</th>\n",
       "      <td>Army Men: RTS</td>\n",
       "      <td>GC</td>\n",
       "      <td>2004.0</td>\n",
       "      <td>Strategy</td>\n",
       "      <td>Global Star</td>\n",
       "      <td>0.05</td>\n",
       "      <td>0.01</td>\n",
       "      <td>0.00</td>\n",
       "      <td>0.00</td>\n",
       "      <td>0.07</td>\n",
       "      <td>NaN</td>\n",
       "      <td>NaN</td>\n",
       "      <td>8.5</td>\n",
       "      <td>4.0</td>\n",
       "      <td>Pandemic Studios</td>\n",
       "      <td>T</td>\n",
       "    </tr>\n",
       "    <tr>\n",
       "      <th>9970</th>\n",
       "      <td>Yattaman DS: BikkuriDokkiri Daisakusen da Koron</td>\n",
       "      <td>DS</td>\n",
       "      <td>2008.0</td>\n",
       "      <td>Action</td>\n",
       "      <td>Takara Tomy</td>\n",
       "      <td>0.00</td>\n",
       "      <td>0.00</td>\n",
       "      <td>0.12</td>\n",
       "      <td>0.00</td>\n",
       "      <td>0.12</td>\n",
       "      <td>NaN</td>\n",
       "      <td>NaN</td>\n",
       "      <td>NaN</td>\n",
       "      <td>NaN</td>\n",
       "      <td>NaN</td>\n",
       "      <td>NaN</td>\n",
       "    </tr>\n",
       "    <tr>\n",
       "      <th>15466</th>\n",
       "      <td>Kawaii Koinu DS 3</td>\n",
       "      <td>DS</td>\n",
       "      <td>2010.0</td>\n",
       "      <td>Simulation</td>\n",
       "      <td>MTO</td>\n",
       "      <td>0.00</td>\n",
       "      <td>0.00</td>\n",
       "      <td>0.02</td>\n",
       "      <td>0.00</td>\n",
       "      <td>0.02</td>\n",
       "      <td>NaN</td>\n",
       "      <td>NaN</td>\n",
       "      <td>NaN</td>\n",
       "      <td>NaN</td>\n",
       "      <td>NaN</td>\n",
       "      <td>NaN</td>\n",
       "    </tr>\n",
       "    <tr>\n",
       "      <th>14668</th>\n",
       "      <td>Metal Dungeon</td>\n",
       "      <td>XB</td>\n",
       "      <td>2002.0</td>\n",
       "      <td>Role-Playing</td>\n",
       "      <td>Xicat Interactive</td>\n",
       "      <td>0.02</td>\n",
       "      <td>0.01</td>\n",
       "      <td>0.00</td>\n",
       "      <td>0.00</td>\n",
       "      <td>0.03</td>\n",
       "      <td>44.0</td>\n",
       "      <td>14.0</td>\n",
       "      <td>7.2</td>\n",
       "      <td>5.0</td>\n",
       "      <td>Panther Software</td>\n",
       "      <td>T</td>\n",
       "    </tr>\n",
       "    <tr>\n",
       "      <th>7288</th>\n",
       "      <td>The Crew</td>\n",
       "      <td>X360</td>\n",
       "      <td>2014.0</td>\n",
       "      <td>Racing</td>\n",
       "      <td>Ubisoft</td>\n",
       "      <td>0.06</td>\n",
       "      <td>0.14</td>\n",
       "      <td>0.00</td>\n",
       "      <td>0.02</td>\n",
       "      <td>0.22</td>\n",
       "      <td>NaN</td>\n",
       "      <td>NaN</td>\n",
       "      <td>6.4</td>\n",
       "      <td>94.0</td>\n",
       "      <td>Ivory Tower</td>\n",
       "      <td>T</td>\n",
       "    </tr>\n",
       "  </tbody>\n",
       "</table>\n",
       "</div>"
      ],
      "text/plain": [
       "                                                  Name Platform  \\\n",
       "7916             Tom Clancy's Splinter Cell: Blacklist       PC   \n",
       "7117                 3rd Super Robot Wars Z Jigoku Hen      PS3   \n",
       "5193                              Mobile Suit Z-Gundam       PS   \n",
       "8498                              Guilty Gear Judgment      PSP   \n",
       "5957                  Kurohyou: Ryu ga Gotoku Shinshou      PSP   \n",
       "12154                                    Army Men: RTS       GC   \n",
       "9970   Yattaman DS: BikkuriDokkiri Daisakusen da Koron       DS   \n",
       "15466                                Kawaii Koinu DS 3       DS   \n",
       "14668                                    Metal Dungeon       XB   \n",
       "7288                                          The Crew     X360   \n",
       "\n",
       "       Year_of_Release         Genre              Publisher  NA_Sales  \\\n",
       "7916            2013.0        Action                Ubisoft      0.04   \n",
       "7117            2014.0  Role-Playing     Namco Bandai Games      0.00   \n",
       "5193            1997.0        Action     Namco Bandai Games      0.00   \n",
       "8498            2006.0      Fighting  Majesco Entertainment      0.13   \n",
       "5957            2010.0     Adventure                   Sega      0.00   \n",
       "12154           2004.0      Strategy            Global Star      0.05   \n",
       "9970            2008.0        Action            Takara Tomy      0.00   \n",
       "15466           2010.0    Simulation                    MTO      0.00   \n",
       "14668           2002.0  Role-Playing      Xicat Interactive      0.02   \n",
       "7288            2014.0        Racing                Ubisoft      0.06   \n",
       "\n",
       "       EU_Sales  JP_Sales  Other_Sales  Global_Sales  Critic_Score  \\\n",
       "7916       0.13      0.00         0.01          0.19          82.0   \n",
       "7117       0.00      0.23         0.00          0.23           NaN   \n",
       "5193       0.00      0.34         0.02          0.36           NaN   \n",
       "8498       0.00      0.02         0.01          0.16          77.0   \n",
       "5957       0.00      0.29         0.00          0.29           NaN   \n",
       "12154      0.01      0.00         0.00          0.07           NaN   \n",
       "9970       0.00      0.12         0.00          0.12           NaN   \n",
       "15466      0.00      0.02         0.00          0.02           NaN   \n",
       "14668      0.01      0.00         0.00          0.03          44.0   \n",
       "7288       0.14      0.00         0.02          0.22           NaN   \n",
       "\n",
       "       Critic_Count  User_Score  User_Count         Developer Rating  \n",
       "7916           13.0         7.4       754.0   Ubisoft Toronto      M  \n",
       "7117            NaN         NaN         NaN               NaN    NaN  \n",
       "5193            NaN         NaN         NaN               NaN    NaN  \n",
       "8498           17.0         6.6         8.0  Arc System Works      T  \n",
       "5957            NaN         NaN         NaN               NaN    NaN  \n",
       "12154           NaN         8.5         4.0  Pandemic Studios      T  \n",
       "9970            NaN         NaN         NaN               NaN    NaN  \n",
       "15466           NaN         NaN         NaN               NaN    NaN  \n",
       "14668          14.0         7.2         5.0  Panther Software      T  \n",
       "7288            NaN         6.4        94.0       Ivory Tower      T  "
      ]
     },
     "execution_count": 12,
     "metadata": {},
     "output_type": "execute_result"
    }
   ],
   "source": [
    "# take a sample look\n",
    "vgs_df.sample(10)"
   ]
  },
  {
   "cell_type": "code",
   "execution_count": 13,
   "metadata": {},
   "outputs": [
    {
     "data": {
      "text/plain": [
       "Index(['Name', 'Platform', 'Year_of_Release', 'Genre', 'Publisher', 'NA_Sales',\n",
       "       'EU_Sales', 'JP_Sales', 'Other_Sales', 'Global_Sales', 'Critic_Score',\n",
       "       'Critic_Count', 'User_Score', 'User_Count', 'Developer', 'Rating'],\n",
       "      dtype='object')"
      ]
     },
     "execution_count": 13,
     "metadata": {},
     "output_type": "execute_result"
    }
   ],
   "source": [
    "# check the columns name \n",
    "vgs_df.columns"
   ]
  },
  {
   "cell_type": "markdown",
   "metadata": {},
   "source": [
    "Then let's check if there is any `NaN` (Not a Number) value which is missing value in each columns. "
   ]
  },
  {
   "cell_type": "code",
   "execution_count": 14,
   "metadata": {},
   "outputs": [
    {
     "data": {
      "text/plain": [
       "Name                True\n",
       "Platform           False\n",
       "Year_of_Release     True\n",
       "Genre               True\n",
       "Publisher           True\n",
       "NA_Sales           False\n",
       "EU_Sales           False\n",
       "JP_Sales           False\n",
       "Other_Sales        False\n",
       "Global_Sales       False\n",
       "Critic_Score        True\n",
       "Critic_Count        True\n",
       "User_Score          True\n",
       "User_Count          True\n",
       "Developer           True\n",
       "Rating              True\n",
       "dtype: bool"
      ]
     },
     "execution_count": 14,
     "metadata": {},
     "output_type": "execute_result"
    }
   ],
   "source": [
    "vgs_df.isna().any()"
   ]
  },
  {
   "cell_type": "markdown",
   "metadata": {},
   "source": [
    "We can know that all the columns have `NaN` values except `Platform`, `NA_Sales`, `EU_Sales`, `JP_Sales`, `Other_Sales`, `Global_Sales`. "
   ]
  },
  {
   "cell_type": "code",
   "execution_count": 15,
   "metadata": {},
   "outputs": [
    {
     "data": {
      "text/plain": [
       "Name                  2\n",
       "Platform              0\n",
       "Year_of_Release     269\n",
       "Genre                 2\n",
       "Publisher            54\n",
       "NA_Sales              0\n",
       "EU_Sales              0\n",
       "JP_Sales              0\n",
       "Other_Sales           0\n",
       "Global_Sales          0\n",
       "Critic_Score       8582\n",
       "Critic_Count       8582\n",
       "User_Score         9129\n",
       "User_Count         9129\n",
       "Developer          6623\n",
       "Rating             6769\n",
       "dtype: int64"
      ]
     },
     "execution_count": 15,
     "metadata": {},
     "output_type": "execute_result"
    }
   ],
   "source": [
    "vgs_df.isna().sum()"
   ]
  },
  {
   "cell_type": "markdown",
   "metadata": {},
   "source": [
    "- There are 2 observations have missing values in `Name`.\n",
    "- 269 observations have missing values in `Year_of_Release`.\n",
    "- 2 observations have missing values in `Genre`.\n",
    "- 54 observations have missing values in `Publisher`.\n",
    "- 8582 observations have missing values in `Critic_Score` and `Critic_Count`.\n",
    "- 9129 observations have missing values in `User_Score` and `User_Count`.\n",
    "- 6623 observations have missing values in `Developer`.\n",
    "- 6769 observations have missing values in `Rating`."
   ]
  },
  {
   "cell_type": "markdown",
   "metadata": {},
   "source": [
    "It is time to do some data cleaning, but I would save a copy of the dataframe before doing that in case something goes wrong. "
   ]
  },
  {
   "cell_type": "code",
   "execution_count": 16,
   "metadata": {},
   "outputs": [],
   "source": [
    "vgs_copy = vgs_df"
   ]
  },
  {
   "cell_type": "code",
   "execution_count": 17,
   "metadata": {},
   "outputs": [
    {
     "data": {
      "text/html": [
       "<div>\n",
       "<style scoped>\n",
       "    .dataframe tbody tr th:only-of-type {\n",
       "        vertical-align: middle;\n",
       "    }\n",
       "\n",
       "    .dataframe tbody tr th {\n",
       "        vertical-align: top;\n",
       "    }\n",
       "\n",
       "    .dataframe thead th {\n",
       "        text-align: right;\n",
       "    }\n",
       "</style>\n",
       "<table border=\"1\" class=\"dataframe\">\n",
       "  <thead>\n",
       "    <tr style=\"text-align: right;\">\n",
       "      <th></th>\n",
       "      <th>Name</th>\n",
       "      <th>Platform</th>\n",
       "      <th>Year_of_Release</th>\n",
       "      <th>Genre</th>\n",
       "      <th>Publisher</th>\n",
       "      <th>NA_Sales</th>\n",
       "      <th>EU_Sales</th>\n",
       "      <th>JP_Sales</th>\n",
       "      <th>Other_Sales</th>\n",
       "      <th>Global_Sales</th>\n",
       "      <th>Critic_Score</th>\n",
       "      <th>Critic_Count</th>\n",
       "      <th>User_Score</th>\n",
       "      <th>User_Count</th>\n",
       "      <th>Developer</th>\n",
       "      <th>Rating</th>\n",
       "    </tr>\n",
       "  </thead>\n",
       "  <tbody>\n",
       "    <tr>\n",
       "      <th>659</th>\n",
       "      <td>NaN</td>\n",
       "      <td>GEN</td>\n",
       "      <td>1993.0</td>\n",
       "      <td>NaN</td>\n",
       "      <td>Acclaim Entertainment</td>\n",
       "      <td>1.78</td>\n",
       "      <td>0.53</td>\n",
       "      <td>0.00</td>\n",
       "      <td>0.08</td>\n",
       "      <td>2.39</td>\n",
       "      <td>NaN</td>\n",
       "      <td>NaN</td>\n",
       "      <td>NaN</td>\n",
       "      <td>NaN</td>\n",
       "      <td>NaN</td>\n",
       "      <td>NaN</td>\n",
       "    </tr>\n",
       "    <tr>\n",
       "      <th>14246</th>\n",
       "      <td>NaN</td>\n",
       "      <td>GEN</td>\n",
       "      <td>1993.0</td>\n",
       "      <td>NaN</td>\n",
       "      <td>Acclaim Entertainment</td>\n",
       "      <td>0.00</td>\n",
       "      <td>0.00</td>\n",
       "      <td>0.03</td>\n",
       "      <td>0.00</td>\n",
       "      <td>0.03</td>\n",
       "      <td>NaN</td>\n",
       "      <td>NaN</td>\n",
       "      <td>NaN</td>\n",
       "      <td>NaN</td>\n",
       "      <td>NaN</td>\n",
       "      <td>NaN</td>\n",
       "    </tr>\n",
       "  </tbody>\n",
       "</table>\n",
       "</div>"
      ],
      "text/plain": [
       "      Name Platform  Year_of_Release Genre              Publisher  NA_Sales  \\\n",
       "659    NaN      GEN           1993.0   NaN  Acclaim Entertainment      1.78   \n",
       "14246  NaN      GEN           1993.0   NaN  Acclaim Entertainment      0.00   \n",
       "\n",
       "       EU_Sales  JP_Sales  Other_Sales  Global_Sales  Critic_Score  \\\n",
       "659        0.53      0.00         0.08          2.39           NaN   \n",
       "14246      0.00      0.03         0.00          0.03           NaN   \n",
       "\n",
       "       Critic_Count  User_Score  User_Count Developer Rating  \n",
       "659             NaN         NaN         NaN       NaN    NaN  \n",
       "14246           NaN         NaN         NaN       NaN    NaN  "
      ]
     },
     "execution_count": 17,
     "metadata": {},
     "output_type": "execute_result"
    }
   ],
   "source": [
    "# Let's check the two which has NaN in Name\n",
    "vgs_df[vgs_df['Name'].isna()]"
   ]
  },
  {
   "cell_type": "code",
   "execution_count": 18,
   "metadata": {},
   "outputs": [
    {
     "data": {
      "text/html": [
       "<div>\n",
       "<style scoped>\n",
       "    .dataframe tbody tr th:only-of-type {\n",
       "        vertical-align: middle;\n",
       "    }\n",
       "\n",
       "    .dataframe tbody tr th {\n",
       "        vertical-align: top;\n",
       "    }\n",
       "\n",
       "    .dataframe thead th {\n",
       "        text-align: right;\n",
       "    }\n",
       "</style>\n",
       "<table border=\"1\" class=\"dataframe\">\n",
       "  <thead>\n",
       "    <tr style=\"text-align: right;\">\n",
       "      <th></th>\n",
       "      <th>Name</th>\n",
       "      <th>Platform</th>\n",
       "      <th>Year_of_Release</th>\n",
       "      <th>Genre</th>\n",
       "      <th>Publisher</th>\n",
       "      <th>NA_Sales</th>\n",
       "      <th>EU_Sales</th>\n",
       "      <th>JP_Sales</th>\n",
       "      <th>Other_Sales</th>\n",
       "      <th>Global_Sales</th>\n",
       "      <th>Critic_Score</th>\n",
       "      <th>Critic_Count</th>\n",
       "      <th>User_Score</th>\n",
       "      <th>User_Count</th>\n",
       "      <th>Developer</th>\n",
       "      <th>Rating</th>\n",
       "    </tr>\n",
       "  </thead>\n",
       "  <tbody>\n",
       "    <tr>\n",
       "      <th>659</th>\n",
       "      <td>NaN</td>\n",
       "      <td>GEN</td>\n",
       "      <td>1993.0</td>\n",
       "      <td>NaN</td>\n",
       "      <td>Acclaim Entertainment</td>\n",
       "      <td>1.78</td>\n",
       "      <td>0.53</td>\n",
       "      <td>0.00</td>\n",
       "      <td>0.08</td>\n",
       "      <td>2.39</td>\n",
       "      <td>NaN</td>\n",
       "      <td>NaN</td>\n",
       "      <td>NaN</td>\n",
       "      <td>NaN</td>\n",
       "      <td>NaN</td>\n",
       "      <td>NaN</td>\n",
       "    </tr>\n",
       "    <tr>\n",
       "      <th>14246</th>\n",
       "      <td>NaN</td>\n",
       "      <td>GEN</td>\n",
       "      <td>1993.0</td>\n",
       "      <td>NaN</td>\n",
       "      <td>Acclaim Entertainment</td>\n",
       "      <td>0.00</td>\n",
       "      <td>0.00</td>\n",
       "      <td>0.03</td>\n",
       "      <td>0.00</td>\n",
       "      <td>0.03</td>\n",
       "      <td>NaN</td>\n",
       "      <td>NaN</td>\n",
       "      <td>NaN</td>\n",
       "      <td>NaN</td>\n",
       "      <td>NaN</td>\n",
       "      <td>NaN</td>\n",
       "    </tr>\n",
       "  </tbody>\n",
       "</table>\n",
       "</div>"
      ],
      "text/plain": [
       "      Name Platform  Year_of_Release Genre              Publisher  NA_Sales  \\\n",
       "659    NaN      GEN           1993.0   NaN  Acclaim Entertainment      1.78   \n",
       "14246  NaN      GEN           1993.0   NaN  Acclaim Entertainment      0.00   \n",
       "\n",
       "       EU_Sales  JP_Sales  Other_Sales  Global_Sales  Critic_Score  \\\n",
       "659        0.53      0.00         0.08          2.39           NaN   \n",
       "14246      0.00      0.03         0.00          0.03           NaN   \n",
       "\n",
       "       Critic_Count  User_Score  User_Count Developer Rating  \n",
       "659             NaN         NaN         NaN       NaN    NaN  \n",
       "14246           NaN         NaN         NaN       NaN    NaN  "
      ]
     },
     "execution_count": 18,
     "metadata": {},
     "output_type": "execute_result"
    }
   ],
   "source": [
    "# also check the two which has NaN in Genre.\n",
    "vgs_df[vgs_df['Genre'].isna()]\n",
    "# They are the same two rows."
   ]
  },
  {
   "cell_type": "code",
   "execution_count": 19,
   "metadata": {},
   "outputs": [],
   "source": [
    "# I will drop these two rows which with index of 659 and 14246 and store back to the dataframe\n",
    "# since they are missing names and many others values.  \n",
    "\n",
    "vgs_df.drop([659,14246], inplace = True)"
   ]
  },
  {
   "cell_type": "code",
   "execution_count": 20,
   "metadata": {},
   "outputs": [
    {
     "data": {
      "text/plain": [
       "Name     False\n",
       "Genre    False\n",
       "dtype: bool"
      ]
     },
     "execution_count": 20,
     "metadata": {},
     "output_type": "execute_result"
    }
   ],
   "source": [
    "# check after data cleaning\n",
    "vgs_df[['Name', 'Genre']].isna().any()"
   ]
  },
  {
   "cell_type": "markdown",
   "metadata": {},
   "source": [
    "Also drop the 269 observations which have `NaN` in `Year_of_Release`."
   ]
  },
  {
   "cell_type": "code",
   "execution_count": 21,
   "metadata": {},
   "outputs": [],
   "source": [
    "vgs_df.dropna(axis = 0, subset = ['Year_of_Release'], inplace = True)"
   ]
  },
  {
   "cell_type": "code",
   "execution_count": 22,
   "metadata": {},
   "outputs": [
    {
     "data": {
      "text/plain": [
       "0"
      ]
     },
     "execution_count": 22,
     "metadata": {},
     "output_type": "execute_result"
    }
   ],
   "source": [
    "#check the result\n",
    "vgs_df['Year_of_Release'].isna().sum()"
   ]
  },
  {
   "cell_type": "code",
   "execution_count": 23,
   "metadata": {},
   "outputs": [
    {
     "data": {
      "text/html": [
       "<div>\n",
       "<style scoped>\n",
       "    .dataframe tbody tr th:only-of-type {\n",
       "        vertical-align: middle;\n",
       "    }\n",
       "\n",
       "    .dataframe tbody tr th {\n",
       "        vertical-align: top;\n",
       "    }\n",
       "\n",
       "    .dataframe thead th {\n",
       "        text-align: right;\n",
       "    }\n",
       "</style>\n",
       "<table border=\"1\" class=\"dataframe\">\n",
       "  <thead>\n",
       "    <tr style=\"text-align: right;\">\n",
       "      <th></th>\n",
       "      <th>Name</th>\n",
       "      <th>Platform</th>\n",
       "      <th>Year_of_Release</th>\n",
       "      <th>Genre</th>\n",
       "      <th>Publisher</th>\n",
       "      <th>NA_Sales</th>\n",
       "      <th>EU_Sales</th>\n",
       "      <th>JP_Sales</th>\n",
       "      <th>Other_Sales</th>\n",
       "      <th>Global_Sales</th>\n",
       "      <th>Critic_Score</th>\n",
       "      <th>Critic_Count</th>\n",
       "      <th>User_Score</th>\n",
       "      <th>User_Count</th>\n",
       "      <th>Developer</th>\n",
       "      <th>Rating</th>\n",
       "    </tr>\n",
       "  </thead>\n",
       "  <tbody>\n",
       "    <tr>\n",
       "      <th>5936</th>\n",
       "      <td>Imagine: Makeup Artist</td>\n",
       "      <td>DS</td>\n",
       "      <td>2020.0</td>\n",
       "      <td>Simulation</td>\n",
       "      <td>Ubisoft</td>\n",
       "      <td>0.27</td>\n",
       "      <td>0.0</td>\n",
       "      <td>0.00</td>\n",
       "      <td>0.02</td>\n",
       "      <td>0.29</td>\n",
       "      <td>NaN</td>\n",
       "      <td>NaN</td>\n",
       "      <td>NaN</td>\n",
       "      <td>NaN</td>\n",
       "      <td>Ubisoft</td>\n",
       "      <td>E</td>\n",
       "    </tr>\n",
       "    <tr>\n",
       "      <th>14086</th>\n",
       "      <td>Phantasy Star Online 2 Episode 4: Deluxe Package</td>\n",
       "      <td>PS4</td>\n",
       "      <td>2017.0</td>\n",
       "      <td>Role-Playing</td>\n",
       "      <td>Sega</td>\n",
       "      <td>0.00</td>\n",
       "      <td>0.0</td>\n",
       "      <td>0.04</td>\n",
       "      <td>0.00</td>\n",
       "      <td>0.04</td>\n",
       "      <td>NaN</td>\n",
       "      <td>NaN</td>\n",
       "      <td>NaN</td>\n",
       "      <td>NaN</td>\n",
       "      <td>NaN</td>\n",
       "      <td>NaN</td>\n",
       "    </tr>\n",
       "    <tr>\n",
       "      <th>16222</th>\n",
       "      <td>Phantasy Star Online 2 Episode 4: Deluxe Package</td>\n",
       "      <td>PSV</td>\n",
       "      <td>2017.0</td>\n",
       "      <td>Role-Playing</td>\n",
       "      <td>Sega</td>\n",
       "      <td>0.00</td>\n",
       "      <td>0.0</td>\n",
       "      <td>0.01</td>\n",
       "      <td>0.00</td>\n",
       "      <td>0.01</td>\n",
       "      <td>NaN</td>\n",
       "      <td>NaN</td>\n",
       "      <td>NaN</td>\n",
       "      <td>NaN</td>\n",
       "      <td>NaN</td>\n",
       "      <td>NaN</td>\n",
       "    </tr>\n",
       "    <tr>\n",
       "      <th>16385</th>\n",
       "      <td>Brothers Conflict: Precious Baby</td>\n",
       "      <td>PSV</td>\n",
       "      <td>2017.0</td>\n",
       "      <td>Action</td>\n",
       "      <td>Idea Factory</td>\n",
       "      <td>0.00</td>\n",
       "      <td>0.0</td>\n",
       "      <td>0.01</td>\n",
       "      <td>0.00</td>\n",
       "      <td>0.01</td>\n",
       "      <td>NaN</td>\n",
       "      <td>NaN</td>\n",
       "      <td>NaN</td>\n",
       "      <td>NaN</td>\n",
       "      <td>NaN</td>\n",
       "      <td>NaN</td>\n",
       "    </tr>\n",
       "  </tbody>\n",
       "</table>\n",
       "</div>"
      ],
      "text/plain": [
       "                                                   Name Platform  \\\n",
       "5936                             Imagine: Makeup Artist       DS   \n",
       "14086  Phantasy Star Online 2 Episode 4: Deluxe Package      PS4   \n",
       "16222  Phantasy Star Online 2 Episode 4: Deluxe Package      PSV   \n",
       "16385                  Brothers Conflict: Precious Baby      PSV   \n",
       "\n",
       "       Year_of_Release         Genre     Publisher  NA_Sales  EU_Sales  \\\n",
       "5936            2020.0    Simulation       Ubisoft      0.27       0.0   \n",
       "14086           2017.0  Role-Playing          Sega      0.00       0.0   \n",
       "16222           2017.0  Role-Playing          Sega      0.00       0.0   \n",
       "16385           2017.0        Action  Idea Factory      0.00       0.0   \n",
       "\n",
       "       JP_Sales  Other_Sales  Global_Sales  Critic_Score  Critic_Count  \\\n",
       "5936       0.00         0.02          0.29           NaN           NaN   \n",
       "14086      0.04         0.00          0.04           NaN           NaN   \n",
       "16222      0.01         0.00          0.01           NaN           NaN   \n",
       "16385      0.01         0.00          0.01           NaN           NaN   \n",
       "\n",
       "       User_Score  User_Count Developer Rating  \n",
       "5936          NaN         NaN   Ubisoft      E  \n",
       "14086         NaN         NaN       NaN    NaN  \n",
       "16222         NaN         NaN       NaN    NaN  \n",
       "16385         NaN         NaN       NaN    NaN  "
      ]
     },
     "execution_count": 23,
     "metadata": {},
     "output_type": "execute_result"
    }
   ],
   "source": [
    "# Since the dataset was only as of December 22th, 2016\n",
    "# let me check the games released after 2016.\n",
    "\n",
    "vgs_df[vgs_df.Year_of_Release > 2016]"
   ]
  },
  {
   "cell_type": "markdown",
   "metadata": {},
   "source": [
    "Seems these four video games have invalid values in `Year_of_Release`, I will drop them directly as these four observations will not much affect our dataframe."
   ]
  },
  {
   "cell_type": "code",
   "execution_count": 24,
   "metadata": {},
   "outputs": [],
   "source": [
    "vgs_df.drop(vgs_df[vgs_df.Year_of_Release > 2016].index, inplace = True)"
   ]
  },
  {
   "cell_type": "code",
   "execution_count": 25,
   "metadata": {},
   "outputs": [
    {
     "data": {
      "text/plain": [
       "min    1980.0\n",
       "max    2016.0\n",
       "Name: Year_of_Release, dtype: float64"
      ]
     },
     "execution_count": 25,
     "metadata": {},
     "output_type": "execute_result"
    }
   ],
   "source": [
    "vgs_df['Year_of_Release'].agg(['min','max'])"
   ]
  },
  {
   "cell_type": "markdown",
   "metadata": {},
   "source": [
    "Now the dataframe is only for the games that were released from 1980 to 2016."
   ]
  },
  {
   "cell_type": "markdown",
   "metadata": {},
   "source": [
    "For the `NA_Sales`,`EU_Sales`,`JP_Sales`,`Other_Sales` and `Global_Sales` five columns, based on the description of the priginal dataset,\\\n",
    "their values should follow this equation: `NA_Sales` + `EU_Sales` + `JP_Sales` + `Other_Sales` = `Global_Sales`"
   ]
  },
  {
   "cell_type": "code",
   "execution_count": 26,
   "metadata": {},
   "outputs": [
    {
     "data": {
      "text/html": [
       "<div>\n",
       "<style scoped>\n",
       "    .dataframe tbody tr th:only-of-type {\n",
       "        vertical-align: middle;\n",
       "    }\n",
       "\n",
       "    .dataframe tbody tr th {\n",
       "        vertical-align: top;\n",
       "    }\n",
       "\n",
       "    .dataframe thead th {\n",
       "        text-align: right;\n",
       "    }\n",
       "</style>\n",
       "<table border=\"1\" class=\"dataframe\">\n",
       "  <thead>\n",
       "    <tr style=\"text-align: right;\">\n",
       "      <th></th>\n",
       "      <th>Name</th>\n",
       "      <th>Platform</th>\n",
       "      <th>Year_of_Release</th>\n",
       "      <th>Genre</th>\n",
       "      <th>Publisher</th>\n",
       "      <th>NA_Sales</th>\n",
       "      <th>EU_Sales</th>\n",
       "      <th>JP_Sales</th>\n",
       "      <th>Other_Sales</th>\n",
       "      <th>Global_Sales</th>\n",
       "      <th>Critic_Score</th>\n",
       "      <th>Critic_Count</th>\n",
       "      <th>User_Score</th>\n",
       "      <th>User_Count</th>\n",
       "      <th>Developer</th>\n",
       "      <th>Rating</th>\n",
       "    </tr>\n",
       "  </thead>\n",
       "  <tbody>\n",
       "    <tr>\n",
       "      <th>0</th>\n",
       "      <td>Wii Sports</td>\n",
       "      <td>Wii</td>\n",
       "      <td>2006.0</td>\n",
       "      <td>Sports</td>\n",
       "      <td>Nintendo</td>\n",
       "      <td>41.36</td>\n",
       "      <td>28.96</td>\n",
       "      <td>3.77</td>\n",
       "      <td>8.45</td>\n",
       "      <td>82.53</td>\n",
       "      <td>76.0</td>\n",
       "      <td>51.0</td>\n",
       "      <td>8.0</td>\n",
       "      <td>322.0</td>\n",
       "      <td>Nintendo</td>\n",
       "      <td>E</td>\n",
       "    </tr>\n",
       "    <tr>\n",
       "      <th>2</th>\n",
       "      <td>Mario Kart Wii</td>\n",
       "      <td>Wii</td>\n",
       "      <td>2008.0</td>\n",
       "      <td>Racing</td>\n",
       "      <td>Nintendo</td>\n",
       "      <td>15.68</td>\n",
       "      <td>12.76</td>\n",
       "      <td>3.79</td>\n",
       "      <td>3.29</td>\n",
       "      <td>35.52</td>\n",
       "      <td>82.0</td>\n",
       "      <td>73.0</td>\n",
       "      <td>8.3</td>\n",
       "      <td>709.0</td>\n",
       "      <td>Nintendo</td>\n",
       "      <td>E</td>\n",
       "    </tr>\n",
       "    <tr>\n",
       "      <th>4</th>\n",
       "      <td>Pokemon Red/Pokemon Blue</td>\n",
       "      <td>GB</td>\n",
       "      <td>1996.0</td>\n",
       "      <td>Role-Playing</td>\n",
       "      <td>Nintendo</td>\n",
       "      <td>11.27</td>\n",
       "      <td>8.89</td>\n",
       "      <td>10.22</td>\n",
       "      <td>1.00</td>\n",
       "      <td>31.37</td>\n",
       "      <td>NaN</td>\n",
       "      <td>NaN</td>\n",
       "      <td>NaN</td>\n",
       "      <td>NaN</td>\n",
       "      <td>NaN</td>\n",
       "      <td>NaN</td>\n",
       "    </tr>\n",
       "    <tr>\n",
       "      <th>5</th>\n",
       "      <td>Tetris</td>\n",
       "      <td>GB</td>\n",
       "      <td>1989.0</td>\n",
       "      <td>Puzzle</td>\n",
       "      <td>Nintendo</td>\n",
       "      <td>23.20</td>\n",
       "      <td>2.26</td>\n",
       "      <td>4.22</td>\n",
       "      <td>0.58</td>\n",
       "      <td>30.26</td>\n",
       "      <td>NaN</td>\n",
       "      <td>NaN</td>\n",
       "      <td>NaN</td>\n",
       "      <td>NaN</td>\n",
       "      <td>NaN</td>\n",
       "      <td>NaN</td>\n",
       "    </tr>\n",
       "    <tr>\n",
       "      <th>7</th>\n",
       "      <td>Wii Play</td>\n",
       "      <td>Wii</td>\n",
       "      <td>2006.0</td>\n",
       "      <td>Misc</td>\n",
       "      <td>Nintendo</td>\n",
       "      <td>13.96</td>\n",
       "      <td>9.18</td>\n",
       "      <td>2.93</td>\n",
       "      <td>2.84</td>\n",
       "      <td>28.92</td>\n",
       "      <td>58.0</td>\n",
       "      <td>41.0</td>\n",
       "      <td>6.6</td>\n",
       "      <td>129.0</td>\n",
       "      <td>Nintendo</td>\n",
       "      <td>E</td>\n",
       "    </tr>\n",
       "    <tr>\n",
       "      <th>...</th>\n",
       "      <td>...</td>\n",
       "      <td>...</td>\n",
       "      <td>...</td>\n",
       "      <td>...</td>\n",
       "      <td>...</td>\n",
       "      <td>...</td>\n",
       "      <td>...</td>\n",
       "      <td>...</td>\n",
       "      <td>...</td>\n",
       "      <td>...</td>\n",
       "      <td>...</td>\n",
       "      <td>...</td>\n",
       "      <td>...</td>\n",
       "      <td>...</td>\n",
       "      <td>...</td>\n",
       "      <td>...</td>\n",
       "    </tr>\n",
       "    <tr>\n",
       "      <th>16238</th>\n",
       "      <td>Vanark</td>\n",
       "      <td>PS</td>\n",
       "      <td>1999.0</td>\n",
       "      <td>Shooter</td>\n",
       "      <td>Jaleco</td>\n",
       "      <td>0.01</td>\n",
       "      <td>0.01</td>\n",
       "      <td>0.00</td>\n",
       "      <td>0.00</td>\n",
       "      <td>0.01</td>\n",
       "      <td>NaN</td>\n",
       "      <td>NaN</td>\n",
       "      <td>NaN</td>\n",
       "      <td>NaN</td>\n",
       "      <td>NaN</td>\n",
       "      <td>NaN</td>\n",
       "    </tr>\n",
       "    <tr>\n",
       "      <th>16256</th>\n",
       "      <td>Bratz: Forever Diamondz</td>\n",
       "      <td>PS2</td>\n",
       "      <td>2006.0</td>\n",
       "      <td>Adventure</td>\n",
       "      <td>THQ</td>\n",
       "      <td>0.01</td>\n",
       "      <td>0.01</td>\n",
       "      <td>0.00</td>\n",
       "      <td>0.00</td>\n",
       "      <td>0.01</td>\n",
       "      <td>NaN</td>\n",
       "      <td>NaN</td>\n",
       "      <td>NaN</td>\n",
       "      <td>NaN</td>\n",
       "      <td>Blitz Games</td>\n",
       "      <td>E</td>\n",
       "    </tr>\n",
       "    <tr>\n",
       "      <th>16292</th>\n",
       "      <td>K-1 Grand Prix</td>\n",
       "      <td>PS</td>\n",
       "      <td>1999.0</td>\n",
       "      <td>Fighting</td>\n",
       "      <td>Jaleco</td>\n",
       "      <td>0.01</td>\n",
       "      <td>0.01</td>\n",
       "      <td>0.00</td>\n",
       "      <td>0.00</td>\n",
       "      <td>0.01</td>\n",
       "      <td>NaN</td>\n",
       "      <td>NaN</td>\n",
       "      <td>NaN</td>\n",
       "      <td>NaN</td>\n",
       "      <td>NaN</td>\n",
       "      <td>NaN</td>\n",
       "    </tr>\n",
       "    <tr>\n",
       "      <th>16680</th>\n",
       "      <td>G1 Jockey 4 2008</td>\n",
       "      <td>PS3</td>\n",
       "      <td>2008.0</td>\n",
       "      <td>Sports</td>\n",
       "      <td>Tecmo Koei</td>\n",
       "      <td>0.00</td>\n",
       "      <td>0.00</td>\n",
       "      <td>0.00</td>\n",
       "      <td>0.00</td>\n",
       "      <td>0.01</td>\n",
       "      <td>NaN</td>\n",
       "      <td>NaN</td>\n",
       "      <td>NaN</td>\n",
       "      <td>NaN</td>\n",
       "      <td>NaN</td>\n",
       "      <td>NaN</td>\n",
       "    </tr>\n",
       "    <tr>\n",
       "      <th>16713</th>\n",
       "      <td>SCORE International Baja 1000: The Official Game</td>\n",
       "      <td>PS2</td>\n",
       "      <td>2008.0</td>\n",
       "      <td>Racing</td>\n",
       "      <td>Activision</td>\n",
       "      <td>0.00</td>\n",
       "      <td>0.00</td>\n",
       "      <td>0.00</td>\n",
       "      <td>0.00</td>\n",
       "      <td>0.01</td>\n",
       "      <td>NaN</td>\n",
       "      <td>NaN</td>\n",
       "      <td>NaN</td>\n",
       "      <td>NaN</td>\n",
       "      <td>NaN</td>\n",
       "      <td>NaN</td>\n",
       "    </tr>\n",
       "  </tbody>\n",
       "</table>\n",
       "<p>6686 rows × 16 columns</p>\n",
       "</div>"
      ],
      "text/plain": [
       "                                                   Name Platform  \\\n",
       "0                                            Wii Sports      Wii   \n",
       "2                                        Mario Kart Wii      Wii   \n",
       "4                              Pokemon Red/Pokemon Blue       GB   \n",
       "5                                                Tetris       GB   \n",
       "7                                              Wii Play      Wii   \n",
       "...                                                 ...      ...   \n",
       "16238                                            Vanark       PS   \n",
       "16256                           Bratz: Forever Diamondz      PS2   \n",
       "16292                                    K-1 Grand Prix       PS   \n",
       "16680                                  G1 Jockey 4 2008      PS3   \n",
       "16713  SCORE International Baja 1000: The Official Game      PS2   \n",
       "\n",
       "       Year_of_Release         Genre   Publisher  NA_Sales  EU_Sales  \\\n",
       "0               2006.0        Sports    Nintendo     41.36     28.96   \n",
       "2               2008.0        Racing    Nintendo     15.68     12.76   \n",
       "4               1996.0  Role-Playing    Nintendo     11.27      8.89   \n",
       "5               1989.0        Puzzle    Nintendo     23.20      2.26   \n",
       "7               2006.0          Misc    Nintendo     13.96      9.18   \n",
       "...                ...           ...         ...       ...       ...   \n",
       "16238           1999.0       Shooter      Jaleco      0.01      0.01   \n",
       "16256           2006.0     Adventure         THQ      0.01      0.01   \n",
       "16292           1999.0      Fighting      Jaleco      0.01      0.01   \n",
       "16680           2008.0        Sports  Tecmo Koei      0.00      0.00   \n",
       "16713           2008.0        Racing  Activision      0.00      0.00   \n",
       "\n",
       "       JP_Sales  Other_Sales  Global_Sales  Critic_Score  Critic_Count  \\\n",
       "0          3.77         8.45         82.53          76.0          51.0   \n",
       "2          3.79         3.29         35.52          82.0          73.0   \n",
       "4         10.22         1.00         31.37           NaN           NaN   \n",
       "5          4.22         0.58         30.26           NaN           NaN   \n",
       "7          2.93         2.84         28.92          58.0          41.0   \n",
       "...         ...          ...           ...           ...           ...   \n",
       "16238      0.00         0.00          0.01           NaN           NaN   \n",
       "16256      0.00         0.00          0.01           NaN           NaN   \n",
       "16292      0.00         0.00          0.01           NaN           NaN   \n",
       "16680      0.00         0.00          0.01           NaN           NaN   \n",
       "16713      0.00         0.00          0.01           NaN           NaN   \n",
       "\n",
       "       User_Score  User_Count    Developer Rating  \n",
       "0             8.0       322.0     Nintendo      E  \n",
       "2             8.3       709.0     Nintendo      E  \n",
       "4             NaN         NaN          NaN    NaN  \n",
       "5             NaN         NaN          NaN    NaN  \n",
       "7             6.6       129.0     Nintendo      E  \n",
       "...           ...         ...          ...    ...  \n",
       "16238         NaN         NaN          NaN    NaN  \n",
       "16256         NaN         NaN  Blitz Games      E  \n",
       "16292         NaN         NaN          NaN    NaN  \n",
       "16680         NaN         NaN          NaN    NaN  \n",
       "16713         NaN         NaN          NaN    NaN  \n",
       "\n",
       "[6686 rows x 16 columns]"
      ]
     },
     "execution_count": 26,
     "metadata": {},
     "output_type": "execute_result"
    }
   ],
   "source": [
    "# Let me check\n",
    "vgs_df[(vgs_df.NA_Sales + vgs_df.EU_Sales + vgs_df.JP_Sales + vgs_df.Other_Sales) != vgs_df.Global_Sales]"
   ]
  },
  {
   "cell_type": "markdown",
   "metadata": {},
   "source": [
    "Seems these 6,686 rows are not correct in `Global_Sales`, maybe there are typos when rounding. I will fix them using the same equation above. "
   ]
  },
  {
   "cell_type": "code",
   "execution_count": 27,
   "metadata": {},
   "outputs": [],
   "source": [
    "# subset these rows\n",
    "sub = vgs_df[(vgs_df.NA_Sales + vgs_df.EU_Sales + vgs_df.JP_Sales + vgs_df.Other_Sales) != vgs_df.Global_Sales]"
   ]
  },
  {
   "cell_type": "code",
   "execution_count": 28,
   "metadata": {},
   "outputs": [],
   "source": [
    "# calculate their Global_Sales using the equation\n",
    "total = sub.NA_Sales + sub.EU_Sales + sub.JP_Sales + sub.Other_Sales"
   ]
  },
  {
   "cell_type": "code",
   "execution_count": 29,
   "metadata": {},
   "outputs": [],
   "source": [
    "# replace the wrongs values with corret values according to wrong rows index in vgs_df\n",
    "vgs_df.loc[sub.index, 'Global_Sales'] = total"
   ]
  },
  {
   "cell_type": "code",
   "execution_count": 30,
   "metadata": {},
   "outputs": [
    {
     "data": {
      "text/plain": [
       "True"
      ]
     },
     "execution_count": 30,
     "metadata": {},
     "output_type": "execute_result"
    }
   ],
   "source": [
    "# check whether all values are fixed\n",
    "((vgs_df.NA_Sales + vgs_df.EU_Sales + vgs_df.JP_Sales + vgs_df.Other_Sales) == vgs_df.Global_Sales).all()"
   ]
  },
  {
   "cell_type": "markdown",
   "metadata": {},
   "source": [
    "Since the value of `Year_of_Release` is in numeric format, we can conver it into `datetime` format and only use the year value. "
   ]
  },
  {
   "cell_type": "code",
   "execution_count": 31,
   "metadata": {},
   "outputs": [],
   "source": [
    "vgs_df['Year_of_Release'] = pd.to_datetime(vgs_df['Year_of_Release'], format = '%Y').dt.year"
   ]
  },
  {
   "cell_type": "code",
   "execution_count": 32,
   "metadata": {},
   "outputs": [
    {
     "data": {
      "text/plain": [
       "(16444, 16)"
      ]
     },
     "execution_count": 32,
     "metadata": {},
     "output_type": "execute_result"
    }
   ],
   "source": [
    "vgs_df.shape # After cleaning, there are 16,444 obsevations"
   ]
  },
  {
   "cell_type": "code",
   "execution_count": 33,
   "metadata": {},
   "outputs": [
    {
     "data": {
      "text/plain": [
       "11426"
      ]
     },
     "execution_count": 33,
     "metadata": {},
     "output_type": "execute_result"
    }
   ],
   "source": [
    "vgs_df['Name'].nunique() # there are 11,426 unique obsevations"
   ]
  },
  {
   "cell_type": "markdown",
   "metadata": {},
   "source": [
    "I will work on these 16,444 obervations and 16 variables, note that only 11,426 among of them are unique, because some video games may release different platform versions. Which means there are around 5,000 observations in our dataframe are the same game title but in different platform. "
   ]
  },
  {
   "cell_type": "markdown",
   "metadata": {},
   "source": [
    "We can start the next part for explorary analysis and visulization.\\\n",
    "I am not going to handle the missing values in `Publisher`,`Critic_Score`,`Critic_Count`,`User_Score`,`User_Count`,`Developer` and `Rating` right now, maybe we will do that later."
   ]
  },
  {
   "cell_type": "markdown",
   "metadata": {},
   "source": [
    "## Exploratory Analysis and Visualization\n",
    "\n",
    "Then we can actually start the exploratory data analysis and visualization by data manipulation and others more. "
   ]
  },
  {
   "cell_type": "markdown",
   "metadata": {},
   "source": [
    "For more statistics information of each numeric column, call the `describe` function to check, it will ignore the `NaN` values which is missing values in each column."
   ]
  },
  {
   "cell_type": "code",
   "execution_count": 34,
   "metadata": {},
   "outputs": [
    {
     "data": {
      "text/html": [
       "<div>\n",
       "<style scoped>\n",
       "    .dataframe tbody tr th:only-of-type {\n",
       "        vertical-align: middle;\n",
       "    }\n",
       "\n",
       "    .dataframe tbody tr th {\n",
       "        vertical-align: top;\n",
       "    }\n",
       "\n",
       "    .dataframe thead th {\n",
       "        text-align: right;\n",
       "    }\n",
       "</style>\n",
       "<table border=\"1\" class=\"dataframe\">\n",
       "  <thead>\n",
       "    <tr style=\"text-align: right;\">\n",
       "      <th></th>\n",
       "      <th>Year_of_Release</th>\n",
       "      <th>NA_Sales</th>\n",
       "      <th>EU_Sales</th>\n",
       "      <th>JP_Sales</th>\n",
       "      <th>Other_Sales</th>\n",
       "      <th>Global_Sales</th>\n",
       "      <th>Critic_Score</th>\n",
       "      <th>Critic_Count</th>\n",
       "      <th>User_Score</th>\n",
       "      <th>User_Count</th>\n",
       "    </tr>\n",
       "  </thead>\n",
       "  <tbody>\n",
       "    <tr>\n",
       "      <th>count</th>\n",
       "      <td>16444.000000</td>\n",
       "      <td>16444.000000</td>\n",
       "      <td>16444.000000</td>\n",
       "      <td>16444.000000</td>\n",
       "      <td>16444.000000</td>\n",
       "      <td>16444.000000</td>\n",
       "      <td>7983.000000</td>\n",
       "      <td>7983.000000</td>\n",
       "      <td>7463.000000</td>\n",
       "      <td>7463.000000</td>\n",
       "    </tr>\n",
       "    <tr>\n",
       "      <th>mean</th>\n",
       "      <td>2006.486256</td>\n",
       "      <td>0.264012</td>\n",
       "      <td>0.145930</td>\n",
       "      <td>0.078487</td>\n",
       "      <td>0.047594</td>\n",
       "      <td>0.536023</td>\n",
       "      <td>68.994363</td>\n",
       "      <td>26.441313</td>\n",
       "      <td>7.126330</td>\n",
       "      <td>163.015141</td>\n",
       "    </tr>\n",
       "    <tr>\n",
       "      <th>std</th>\n",
       "      <td>5.875525</td>\n",
       "      <td>0.818378</td>\n",
       "      <td>0.506716</td>\n",
       "      <td>0.311100</td>\n",
       "      <td>0.188005</td>\n",
       "      <td>1.558786</td>\n",
       "      <td>13.920060</td>\n",
       "      <td>19.008136</td>\n",
       "      <td>1.499447</td>\n",
       "      <td>563.863327</td>\n",
       "    </tr>\n",
       "    <tr>\n",
       "      <th>min</th>\n",
       "      <td>1980.000000</td>\n",
       "      <td>0.000000</td>\n",
       "      <td>0.000000</td>\n",
       "      <td>0.000000</td>\n",
       "      <td>0.000000</td>\n",
       "      <td>0.000000</td>\n",
       "      <td>13.000000</td>\n",
       "      <td>3.000000</td>\n",
       "      <td>0.000000</td>\n",
       "      <td>4.000000</td>\n",
       "    </tr>\n",
       "    <tr>\n",
       "      <th>25%</th>\n",
       "      <td>2003.000000</td>\n",
       "      <td>0.000000</td>\n",
       "      <td>0.000000</td>\n",
       "      <td>0.000000</td>\n",
       "      <td>0.000000</td>\n",
       "      <td>0.060000</td>\n",
       "      <td>60.000000</td>\n",
       "      <td>12.000000</td>\n",
       "      <td>6.400000</td>\n",
       "      <td>10.000000</td>\n",
       "    </tr>\n",
       "    <tr>\n",
       "      <th>50%</th>\n",
       "      <td>2007.000000</td>\n",
       "      <td>0.080000</td>\n",
       "      <td>0.020000</td>\n",
       "      <td>0.000000</td>\n",
       "      <td>0.010000</td>\n",
       "      <td>0.170000</td>\n",
       "      <td>71.000000</td>\n",
       "      <td>22.000000</td>\n",
       "      <td>7.500000</td>\n",
       "      <td>24.000000</td>\n",
       "    </tr>\n",
       "    <tr>\n",
       "      <th>75%</th>\n",
       "      <td>2010.000000</td>\n",
       "      <td>0.240000</td>\n",
       "      <td>0.110000</td>\n",
       "      <td>0.040000</td>\n",
       "      <td>0.030000</td>\n",
       "      <td>0.470000</td>\n",
       "      <td>79.000000</td>\n",
       "      <td>36.000000</td>\n",
       "      <td>8.200000</td>\n",
       "      <td>81.000000</td>\n",
       "    </tr>\n",
       "    <tr>\n",
       "      <th>max</th>\n",
       "      <td>2016.000000</td>\n",
       "      <td>41.360000</td>\n",
       "      <td>28.960000</td>\n",
       "      <td>10.220000</td>\n",
       "      <td>10.570000</td>\n",
       "      <td>82.540000</td>\n",
       "      <td>98.000000</td>\n",
       "      <td>113.000000</td>\n",
       "      <td>9.700000</td>\n",
       "      <td>10665.000000</td>\n",
       "    </tr>\n",
       "  </tbody>\n",
       "</table>\n",
       "</div>"
      ],
      "text/plain": [
       "       Year_of_Release      NA_Sales      EU_Sales      JP_Sales  \\\n",
       "count     16444.000000  16444.000000  16444.000000  16444.000000   \n",
       "mean       2006.486256      0.264012      0.145930      0.078487   \n",
       "std           5.875525      0.818378      0.506716      0.311100   \n",
       "min        1980.000000      0.000000      0.000000      0.000000   \n",
       "25%        2003.000000      0.000000      0.000000      0.000000   \n",
       "50%        2007.000000      0.080000      0.020000      0.000000   \n",
       "75%        2010.000000      0.240000      0.110000      0.040000   \n",
       "max        2016.000000     41.360000     28.960000     10.220000   \n",
       "\n",
       "        Other_Sales  Global_Sales  Critic_Score  Critic_Count   User_Score  \\\n",
       "count  16444.000000  16444.000000   7983.000000   7983.000000  7463.000000   \n",
       "mean       0.047594      0.536023     68.994363     26.441313     7.126330   \n",
       "std        0.188005      1.558786     13.920060     19.008136     1.499447   \n",
       "min        0.000000      0.000000     13.000000      3.000000     0.000000   \n",
       "25%        0.000000      0.060000     60.000000     12.000000     6.400000   \n",
       "50%        0.010000      0.170000     71.000000     22.000000     7.500000   \n",
       "75%        0.030000      0.470000     79.000000     36.000000     8.200000   \n",
       "max       10.570000     82.540000     98.000000    113.000000     9.700000   \n",
       "\n",
       "         User_Count  \n",
       "count   7463.000000  \n",
       "mean     163.015141  \n",
       "std      563.863327  \n",
       "min        4.000000  \n",
       "25%       10.000000  \n",
       "50%       24.000000  \n",
       "75%       81.000000  \n",
       "max    10665.000000  "
      ]
     },
     "execution_count": 34,
     "metadata": {},
     "output_type": "execute_result"
    }
   ],
   "source": [
    "vgs_df.describe()"
   ]
  },
  {
   "cell_type": "code",
   "execution_count": 35,
   "metadata": {},
   "outputs": [],
   "source": [
    "# install the matplotlib and seaborn libraries.\n",
    "!pip install matplotlib seaborn --upgrade --quiet"
   ]
  },
  {
   "cell_type": "code",
   "execution_count": 36,
   "metadata": {},
   "outputs": [],
   "source": [
    "# import and alias them\n",
    "import matplotlib\n",
    "import matplotlib.pyplot as plt, seaborn as sns"
   ]
  },
  {
   "cell_type": "code",
   "execution_count": 37,
   "metadata": {},
   "outputs": [],
   "source": [
    "# set plot basic styles\n",
    "%matplotlib inline\n",
    "sns.set_style('darkgrid')\n",
    "matplotlib.rcParams['font.size'] = 14\n",
    "matplotlib.rcParams['figure.figsize'] = (10, 6)\n",
    "matplotlib.rcParams['figure.facecolor'] = '#00000000'"
   ]
  },
  {
   "cell_type": "markdown",
   "metadata": {},
   "source": [
    "### Histogram for the Number of Video Games Released Per 5-year\n",
    "We can compare the number of video games released per 5-year from 1980 to 2016 by generating a histogram. "
   ]
  },
  {
   "cell_type": "code",
   "execution_count": 38,
   "metadata": {},
   "outputs": [
    {
     "data": {
      "image/png": "[encoded data removed]",
      "text/plain": [
       "<Figure size 720x432 with 1 Axes>"
      ]
     },
     "metadata": {
      "needs_background": "light"
     },
     "output_type": "display_data"
    }
   ],
   "source": [
    "plt.hist(vgs_df.Year_of_Release, \n",
    "         bins = [1980,1985,1990,1995,2000,2005,2010,2016],\n",
    "         color = 'orange',\n",
    "         alpha = 0.8)\n",
    "\n",
    "# add axis labels\n",
    "plt.xlabel('Year of Release')\n",
    "plt.ylabel('Number of Video Games Released')\n",
    "\n",
    "# add title\n",
    "plt.title('Number of Video Games Released per 5-year from 1980 to 2016',\n",
    "         pad = 20);"
   ]
  },
  {
   "cell_type": "markdown",
   "metadata": {},
   "source": [
    "Known from the plot, there are about 6,000 video games released between 2005 and 2010 which is the highest 5 years in our dataset, following by 2010 to 2016, this 6-year has about 5,200 games released. "
   ]
  },
  {
   "cell_type": "markdown",
   "metadata": {},
   "source": [
    "### Pie Chart of Global Sales by Region\n",
    "We can compare cumulative units sold since the games were released till December 22th, 2016 in `NA_Sales`, `EU_Sales`, `JP_Sales`,`Other_Sales` four regions by a pie plot. "
   ]
  },
  {
   "cell_type": "code",
   "execution_count": 39,
   "metadata": {},
   "outputs": [],
   "source": [
    "# create a subset of sales data for these four regions\n",
    "region_df = vgs_df[['NA_Sales','EU_Sales','JP_Sales','Other_Sales']]"
   ]
  },
  {
   "cell_type": "code",
   "execution_count": 40,
   "metadata": {},
   "outputs": [
    {
     "data": {
      "image/png": "[encoded data removed]",
      "text/plain": [
       "<Figure size 720x432 with 1 Axes>"
      ]
     },
     "metadata": {},
     "output_type": "display_data"
    }
   ],
   "source": [
    "# generate and style a pie plot with the above regional subset data\n",
    "subtotal = region_df.sum() # calculate the sales for each region\n",
    "label = ['North America','Europe','Japan','Rest of the World'] \n",
    "\n",
    "# to inverse the autopct for the actual values\n",
    "def make_autopct(subtotal):\n",
    "        def inverse_autopct(pct):\n",
    "            return '{p:.2f}% ({v:.2f} m)'.format(p = pct, v = pct*sum(subtotal)/100)\n",
    "        return inverse_autopct\n",
    "\n",
    "# plot and style\n",
    "pie = plt.pie(subtotal, # values\n",
    "        labels = label, # label for each section\n",
    "        autopct = make_autopct(subtotal), # show data in percentage and values with two decimal places \n",
    "        explode = [0.06, 0.05, 0, 0], # to slice the particular sections\n",
    "        textprops = {\"fontsize\" : 12}, # set the fontsize of the plot\n",
    "        shadow = True, # set to show shadow\n",
    "        startangle = 90) # set the angle for the first section\n",
    "\n",
    "# add title\n",
    "plt.title('Cumulative Units Sold by Region of Video Games that Released from 1980 to 2016 (in % and number)');"
   ]
  },
  {
   "cell_type": "markdown",
   "metadata": {},
   "source": [
    "We can see that for the games released from 1980 to 2016, almost half of them have sold in North America, followed by Europe with a percentage of 27, which is more than half of the portion left by North America. \n",
    "- That is, over three-fourths of the video games have sold in North America and Europe. These two regions are two important markets for video games and related businesses. "
   ]
  },
  {
   "cell_type": "markdown",
   "metadata": {},
   "source": [
    "### Bar Plot for Global Sales by ESRB Rating\n",
    "I will generate a bar plot to show the cumulative global units sold for each ESRB rating."
   ]
  },
  {
   "cell_type": "code",
   "execution_count": 41,
   "metadata": {},
   "outputs": [],
   "source": [
    "sales_by_rating = vgs_df.groupby('Rating')['Global_Sales'].sum().sort_values(ascending = False).to_frame()\n",
    "sales_by_rating['Perc'] = round(sales_by_rating['Global_Sales'] / sales_by_rating['Global_Sales'].sum() * 100, 2)\n",
    "sales_by_rating = sales_by_rating.reset_index()"
   ]
  },
  {
   "cell_type": "code",
   "execution_count": 42,
   "metadata": {
    "scrolled": false
   },
   "outputs": [
    {
     "data": {
      "image/png": "[encoded data removed]",
      "text/plain": [
       "<Figure size 720x432 with 1 Axes>"
      ]
     },
     "metadata": {
      "needs_background": "light"
     },
     "output_type": "display_data"
    }
   ],
   "source": [
    "# genreate the bar plot using sns\n",
    "bar_sales_by_rating = sns.barplot(y = 'Global_Sales', x = 'Rating', data = sales_by_rating)\n",
    "\n",
    "# set title and axis labels\n",
    "bar_sales_by_rating.set_title('Cumulative Global Units Sold of Video Games between 1980 and 2016 by ESRB Rating (in millions)',\n",
    "          pad = 40)\n",
    "bar_sales_by_rating.set_ylabel('Cumulative Global Units Sold (in millions)')\n",
    "bar_sales_by_rating.set_xlabel('ESRB Rating')\n",
    "\n",
    "# add pecentage for each rating bar using sns.annotate function \n",
    "for i in range(sales_by_rating.shape[0]):\n",
    "    bar_sales_by_rating.annotate(str(round(sales_by_rating['Global_Sales'][i],2)) + '\\n ('+ str(sales_by_rating['Perc'][i]) + '%) ',\n",
    "                                 xy = (i, sales_by_rating['Global_Sales'][i] + 30),\n",
    "                                 fontsize = 12,\n",
    "                                 horizontalalignment = 'center');"
   ]
  },
  {
   "cell_type": "markdown",
   "metadata": {},
   "source": [
    "- Seems about 90%  of the games are rated as E, T, and M based on the ESRB rating. "
   ]
  },
  {
   "cell_type": "markdown",
   "metadata": {},
   "source": [
    "### Bar Plot for Global Sales by Genre\n",
    "Now I am interested in what are the popular genres of video games. I will generate a bar plot to show the cumulative global units sold for each genre."
   ]
  },
  {
   "cell_type": "code",
   "execution_count": 43,
   "metadata": {},
   "outputs": [
    {
     "data": {
      "text/plain": [
       "array(['Sports', 'Platform', 'Racing', 'Role-Playing', 'Puzzle', 'Misc',\n",
       "       'Shooter', 'Simulation', 'Action', 'Fighting', 'Adventure',\n",
       "       'Strategy'], dtype=object)"
      ]
     },
     "execution_count": 43,
     "metadata": {},
     "output_type": "execute_result"
    }
   ],
   "source": [
    "# check what are the genres of games\n",
    "vgs_df['Genre'].unique()"
   ]
  },
  {
   "cell_type": "code",
   "execution_count": 44,
   "metadata": {},
   "outputs": [
    {
     "data": {
      "text/plain": [
       "12"
      ]
     },
     "execution_count": 44,
     "metadata": {},
     "output_type": "execute_result"
    }
   ],
   "source": [
    "# check how many of them\n",
    "vgs_df['Genre'].nunique()"
   ]
  },
  {
   "cell_type": "code",
   "execution_count": 45,
   "metadata": {},
   "outputs": [],
   "source": [
    "# create a subset and calculate the subtotal global sales and percentage by genre\n",
    "sales_by_genre = vgs_df.groupby('Genre')['Global_Sales'].sum().sort_values(ascending = False).to_frame()\n",
    "sales_by_genre['Perc'] = round(sales_by_genre['Global_Sales'] / sales_by_genre['Global_Sales'].sum() * 100, 2)\n",
    "sales_by_genre = sales_by_genre.reset_index()"
   ]
  },
  {
   "cell_type": "code",
   "execution_count": 46,
   "metadata": {},
   "outputs": [
    {
     "data": {
      "text/html": [
       "<div>\n",
       "<style scoped>\n",
       "    .dataframe tbody tr th:only-of-type {\n",
       "        vertical-align: middle;\n",
       "    }\n",
       "\n",
       "    .dataframe tbody tr th {\n",
       "        vertical-align: top;\n",
       "    }\n",
       "\n",
       "    .dataframe thead th {\n",
       "        text-align: right;\n",
       "    }\n",
       "</style>\n",
       "<table border=\"1\" class=\"dataframe\">\n",
       "  <thead>\n",
       "    <tr style=\"text-align: right;\">\n",
       "      <th></th>\n",
       "      <th>Genre</th>\n",
       "      <th>Global_Sales</th>\n",
       "      <th>Perc</th>\n",
       "    </tr>\n",
       "  </thead>\n",
       "  <tbody>\n",
       "    <tr>\n",
       "      <th>0</th>\n",
       "      <td>Action</td>\n",
       "      <td>1716.52</td>\n",
       "      <td>19.47</td>\n",
       "    </tr>\n",
       "    <tr>\n",
       "      <th>1</th>\n",
       "      <td>Sports</td>\n",
       "      <td>1309.67</td>\n",
       "      <td>14.86</td>\n",
       "    </tr>\n",
       "    <tr>\n",
       "      <th>2</th>\n",
       "      <td>Shooter</td>\n",
       "      <td>1041.36</td>\n",
       "      <td>11.81</td>\n",
       "    </tr>\n",
       "    <tr>\n",
       "      <th>3</th>\n",
       "      <td>Role-Playing</td>\n",
       "      <td>931.08</td>\n",
       "      <td>10.56</td>\n",
       "    </tr>\n",
       "    <tr>\n",
       "      <th>4</th>\n",
       "      <td>Platform</td>\n",
       "      <td>825.55</td>\n",
       "      <td>9.37</td>\n",
       "    </tr>\n",
       "    <tr>\n",
       "      <th>5</th>\n",
       "      <td>Misc</td>\n",
       "      <td>790.29</td>\n",
       "      <td>8.97</td>\n",
       "    </tr>\n",
       "    <tr>\n",
       "      <th>6</th>\n",
       "      <td>Racing</td>\n",
       "      <td>723.49</td>\n",
       "      <td>8.21</td>\n",
       "    </tr>\n",
       "    <tr>\n",
       "      <th>7</th>\n",
       "      <td>Fighting</td>\n",
       "      <td>442.66</td>\n",
       "      <td>5.02</td>\n",
       "    </tr>\n",
       "    <tr>\n",
       "      <th>8</th>\n",
       "      <td>Simulation</td>\n",
       "      <td>387.96</td>\n",
       "      <td>4.40</td>\n",
       "    </tr>\n",
       "    <tr>\n",
       "      <th>9</th>\n",
       "      <td>Puzzle</td>\n",
       "      <td>239.89</td>\n",
       "      <td>2.72</td>\n",
       "    </tr>\n",
       "    <tr>\n",
       "      <th>10</th>\n",
       "      <td>Adventure</td>\n",
       "      <td>233.33</td>\n",
       "      <td>2.65</td>\n",
       "    </tr>\n",
       "    <tr>\n",
       "      <th>11</th>\n",
       "      <td>Strategy</td>\n",
       "      <td>172.57</td>\n",
       "      <td>1.96</td>\n",
       "    </tr>\n",
       "  </tbody>\n",
       "</table>\n",
       "</div>"
      ],
      "text/plain": [
       "           Genre  Global_Sales   Perc\n",
       "0         Action       1716.52  19.47\n",
       "1         Sports       1309.67  14.86\n",
       "2        Shooter       1041.36  11.81\n",
       "3   Role-Playing        931.08  10.56\n",
       "4       Platform        825.55   9.37\n",
       "5           Misc        790.29   8.97\n",
       "6         Racing        723.49   8.21\n",
       "7       Fighting        442.66   5.02\n",
       "8     Simulation        387.96   4.40\n",
       "9         Puzzle        239.89   2.72\n",
       "10     Adventure        233.33   2.65\n",
       "11      Strategy        172.57   1.96"
      ]
     },
     "execution_count": 46,
     "metadata": {},
     "output_type": "execute_result"
    }
   ],
   "source": [
    "sales_by_genre"
   ]
  },
  {
   "cell_type": "code",
   "execution_count": 47,
   "metadata": {},
   "outputs": [
    {
     "data": {
      "image/png": "[encoded data removed]",
      "text/plain": [
       "<Figure size 720x432 with 1 Axes>"
      ]
     },
     "metadata": {
      "needs_background": "light"
     },
     "output_type": "display_data"
    }
   ],
   "source": [
    "# genreate the bar plot using sns\n",
    "bar_sales_by_genre = sns.barplot(x = 'Global_Sales',\n",
    "                                 y = 'Genre',\n",
    "                                 data = sales_by_genre,\n",
    "                                 ci = None)\n",
    "\n",
    "# set title and axis labels\n",
    "bar_sales_by_genre.set_title('Cumulative Global Units Sold of Video Games between 1980 and 2016 by Genre (in millions)',\n",
    "          pad = 20)\n",
    "bar_sales_by_genre.set_xlabel('Cumulative Global Units Sold (in millions)')\n",
    "bar_sales_by_genre.set_ylabel('Genre')\n",
    "\n",
    "# add pecentage for each genre bar using sns.annotate function \n",
    "for i in range(sales_by_genre.shape[0]):\n",
    "    bar_sales_by_genre.annotate(str(round(sales_by_genre['Global_Sales'][i],2)) + ' (' + str(sales_by_genre['Perc'][i]) + '%) ',\n",
    "                                xy = (sales_by_genre['Global_Sales'][i]+10, i),\n",
    "                                fontsize = 12, \n",
    "                                verticalalignment = 'center');"
   ]
  },
  {
   "cell_type": "markdown",
   "metadata": {},
   "source": [
    "- It seems that action, sports, shooter and role-playing are the top four genres among all video games because their percentages are all over 10%. "
   ]
  },
  {
   "cell_type": "markdown",
   "metadata": {},
   "source": [
    "### Line Chart for Number of Video Games Released Each Year from 1980 to 2016\n",
    "Now I want to see the trend of number of games relesed each year among these four genres from these years. \n",
    "\n",
    "**Note:** I was intended to check the sales trend but realized that the sales data are not yearly sales data. The sales data are cumulative units sold as of December 22th, 2016. "
   ]
  },
  {
   "cell_type": "code",
   "execution_count": 48,
   "metadata": {},
   "outputs": [],
   "source": [
    "# subset the observations that are the top four genres we found above\n",
    "top_genre = vgs_df.query(\"Genre == ('Action', 'Sports', 'Shooter', 'Role-Playing')\")"
   ]
  },
  {
   "cell_type": "code",
   "execution_count": 49,
   "metadata": {},
   "outputs": [],
   "source": [
    "# calculate the number of games released each year for each genre\n",
    "action = top_genre[top_genre.Genre == 'Action'].groupby('Year_of_Release')['Name'].count()\n",
    "sports = top_genre[top_genre.Genre == 'Sports'].groupby('Year_of_Release')['Name'].count()\n",
    "shoot = top_genre[top_genre.Genre == 'Shooter'].groupby('Year_of_Release')['Name'].count()\n",
    "role = top_genre[top_genre.Genre == 'Role-Playing'].groupby('Year_of_Release')['Name'].count()"
   ]
  },
  {
   "cell_type": "code",
   "execution_count": 50,
   "metadata": {},
   "outputs": [
    {
     "data": {
      "image/png": "[encoded data removed]",
      "text/plain": [
       "<Figure size 720x432 with 1 Axes>"
      ]
     },
     "metadata": {
      "needs_background": "light"
     },
     "output_type": "display_data"
    }
   ],
   "source": [
    "# plot and style lines for each genre using above pandas.series\n",
    "plt.plot(action.index, action.values,'-o')\n",
    "plt.plot(sports.index, sports.values, '--s')\n",
    "plt.plot(shoot.index, shoot.values, '-.^')\n",
    "plt.plot(role.index, role.values, ':X')\n",
    "\n",
    "# add legend\n",
    "plt.legend(['Action','Sports','Shooer','Role-Playing'])\n",
    "\n",
    "# add labels for axis\n",
    "plt.xlabel('Year')\n",
    "plt.ylabel('Number of Video Games Released')\n",
    "\n",
    "# add title\n",
    "plt.title('Number of Video Games Released Each Year among Top Four Genres from 1980 to 2016',\n",
    "          pad = 20);"
   ]
  },
  {
   "cell_type": "markdown",
   "metadata": {},
   "source": [
    "- We can see there is a big increase at the beginning of the 21st century for action, sports and shooter three genres. \n",
    "- The sports genre (in orange dashed line) jumped from 60 to around 180 from 1999 to 2002. Then has a huge decline in 2011 and 2012, which is around 180 in 2010 to 50 in 2012. \n",
    "- Similarly, the action genre (in blue solid line) jumped from 75 to about 280 in 5 years. Then dropped from 270 to 150 in only one year in 2013. "
   ]
  },
  {
   "cell_type": "markdown",
   "metadata": {},
   "source": [
    "### Stacked Bar Chart of Cumulative Global Sales for Games by Top Games Developers Released in the 21st Century\n",
    "\n",
    "Next, I am interested in what are the cumulative global sales of video games that were released after 1999 by the famous video games developers.\\\n",
    "As an experienced and below-average skilled video game player, I already have a target list of companies to checked.\\\n",
    "But let's check who are the top 10 developers on number of games released and the top 10 on total global sales between 1980 and 2016 for some ideas."
   ]
  },
  {
   "cell_type": "code",
   "execution_count": 51,
   "metadata": {},
   "outputs": [
    {
     "data": {
      "text/plain": [
       "Developer\n",
       "Ubisoft             200\n",
       "EA Sports           169\n",
       "EA Canada           164\n",
       "Konami              158\n",
       "Capcom              137\n",
       "EA Tiburon          104\n",
       "Electronic Arts     101\n",
       "Ubisoft Montreal    100\n",
       "Visual Concepts      98\n",
       "Omega Force          80\n",
       "Name: Name, dtype: int64"
      ]
     },
     "execution_count": 51,
     "metadata": {},
     "output_type": "execute_result"
    }
   ],
   "source": [
    "# top 10 developers on number of games released from 1980 to 2016.\n",
    "vgs_df.groupby('Developer')['Name'].count().sort_values(ascending = False).head(10)"
   ]
  },
  {
   "cell_type": "code",
   "execution_count": 52,
   "metadata": {},
   "outputs": [
    {
     "data": {
      "text/plain": [
       "Developer\n",
       "Nintendo            531.78\n",
       "EA Sports           173.10\n",
       "EA Canada           138.14\n",
       "Ubisoft             131.99\n",
       "Rockstar North      119.48\n",
       "Capcom              115.19\n",
       "Ubisoft Montreal    107.46\n",
       "Treyarch            101.50\n",
       "EA Tiburon           88.83\n",
       "Infinity Ward        77.64\n",
       "Name: Global_Sales, dtype: float64"
      ]
     },
     "execution_count": 52,
     "metadata": {},
     "output_type": "execute_result"
    }
   ],
   "source": [
    "# top 10 developers global sales from 1980 to 2016.\n",
    "vgs_df.groupby('Developer')['Global_Sales'].sum().sort_values(ascending = False).head(10)"
   ]
  },
  {
   "cell_type": "markdown",
   "metadata": {},
   "source": [
    "OK, now we have targets, they are as follow:\n",
    "- `Ubisoft`: the top one with 200 games released these years whose headquartered in France.\n",
    "[More Info](https://www.ubisoft.com/en-us/company/about-us/our-story)\n",
    "- `Nintendo`: the top one with the highest global sales from 1980 to 2016 whose headquartered in Japan. [More Info](https://www.nintendo.com/about)\n",
    "- `EA Sports`: the one with second-best on both the number of released and global sales. Mostly develop sports games according to its name (correct me if I am wrong). Headquartered in the U.S. [More Info](https://www.ea.com/ea-studios/ea-sports/about)\n",
    "- `Rockstar North`: famous for the GTA series, the parent company is Take-Two Interactive whose headquarters are located in NYC. (Please let me know when GTA 6 is released.) [More Info](https://www.rockstarnorth.com/#about)\n",
    "- `Capcom`: famous for Street Fighter series, Resident Evil series and Monster Hunter series. Headquartered in Japan. [More Info](https://www.capcom.com/us)"
   ]
  },
  {
   "cell_type": "code",
   "execution_count": 53,
   "metadata": {},
   "outputs": [],
   "source": [
    "# create a subset of games by these five developers and released in the 21st century\n",
    "top_dev_2000 = vgs_df.query(\"Developer == ('Ubisoft', 'Nintendo', 'EA Sports', 'Rockstar North', 'Capcom') & Year_of_Release >= 2000\")"
   ]
  },
  {
   "cell_type": "code",
   "execution_count": 54,
   "metadata": {},
   "outputs": [],
   "source": [
    "# select the columns needed\n",
    "sales_top_dev_2000 = top_dev_2000[['Developer', 'Year_of_Release', 'Global_Sales']]"
   ]
  },
  {
   "cell_type": "code",
   "execution_count": 55,
   "metadata": {},
   "outputs": [],
   "source": [
    "# calculate global sales on each year for these developers\n",
    "ubi = sales_top_dev_2000[sales_top_dev_2000.Developer == 'Ubisoft'].groupby('Year_of_Release')['Global_Sales'].sum()\n",
    "nin = sales_top_dev_2000[sales_top_dev_2000.Developer == 'Nintendo'].groupby('Year_of_Release')['Global_Sales'].sum()\n",
    "eas = sales_top_dev_2000[sales_top_dev_2000.Developer == 'EA Sports'].groupby('Year_of_Release')['Global_Sales'].sum()\n",
    "rs = sales_top_dev_2000[sales_top_dev_2000.Developer == 'Rockstar North'].groupby('Year_of_Release')['Global_Sales'].sum()\n",
    "cap = sales_top_dev_2000[sales_top_dev_2000.Developer == 'Capcom'].groupby('Year_of_Release')['Global_Sales'].sum()"
   ]
  },
  {
   "cell_type": "code",
   "execution_count": 56,
   "metadata": {},
   "outputs": [
    {
     "name": "stdout",
     "output_type": "stream",
     "text": [
      "ubi has 17 rows.\n",
      "nin has 14 rows.\n",
      "eas has 17 rows.\n",
      "rs has 8 rows.\n",
      "cap has 17 rows.\n"
     ]
    }
   ],
   "source": [
    "# check their length, should be 17\n",
    "print('{} has {} rows.'.format('ubi', len(ubi)))\n",
    "print('{} has {} rows.'.format('nin', len(nin)))\n",
    "print('{} has {} rows.'.format('eas', len(eas)))\n",
    "print('{} has {} rows.'.format('rs', len(rs)))\n",
    "print('{} has {} rows.'.format('cap', len(cap)))"
   ]
  },
  {
   "cell_type": "markdown",
   "metadata": {},
   "source": [
    "We need to find the 3 missing values in `nin` and 9 missing values in `rs`."
   ]
  },
  {
   "cell_type": "code",
   "execution_count": 57,
   "metadata": {},
   "outputs": [
    {
     "data": {
      "text/plain": [
       "Int64Index([2001, 2002, 2004, 2005, 2006, 2007, 2008, 2009, 2010, 2011, 2012,\n",
       "            2013, 2014, 2015],\n",
       "           dtype='int64', name='Year_of_Release')"
      ]
     },
     "execution_count": 57,
     "metadata": {},
     "output_type": "execute_result"
    }
   ],
   "source": [
    "nin.index # missing 2000, 2003 and 2016"
   ]
  },
  {
   "cell_type": "markdown",
   "metadata": {},
   "source": [
    "I need to create new indices of 2000, 2003 and 2006 in the `nin` series and then fill them with 0.\\\n",
    "Again, the `Global_Sales` values are the cumulative units sold since the games were released till December 22th, 2016. Not the units sold that year. The `Year_of_Release` is the year when the game was released.\\\n",
    "So in our case here, I fill the years with 0 means the developer didn’t release games that year. "
   ]
  },
  {
   "cell_type": "code",
   "execution_count": 58,
   "metadata": {},
   "outputs": [],
   "source": [
    "# fill them with 0\n",
    "nin[2000] = 0\n",
    "nin[2003] = 0\n",
    "nin[2016] = 0\n",
    "nin = nin.sort_index()"
   ]
  },
  {
   "cell_type": "code",
   "execution_count": 59,
   "metadata": {},
   "outputs": [
    {
     "data": {
      "text/plain": [
       "Int64Index([2002, 2003, 2004, 2005, 2008, 2013, 2014, 2015], dtype='int64', name='Year_of_Release')"
      ]
     },
     "execution_count": 59,
     "metadata": {},
     "output_type": "execute_result"
    }
   ],
   "source": [
    "rs.index # missing 2000, 2001, 2006, 2007, 2009, 2010, 2011, 2012 and 2016"
   ]
  },
  {
   "cell_type": "code",
   "execution_count": 60,
   "metadata": {},
   "outputs": [],
   "source": [
    "# fill them with 0\n",
    "rs[2000] = 0\n",
    "rs[2001] = 0\n",
    "rs[2006] = 0\n",
    "rs[2007] = 0\n",
    "rs[2009] = 0\n",
    "rs[2010] = 0\n",
    "rs[2011] = 0\n",
    "rs[2012] = 0\n",
    "rs[2016] = 0\n",
    "rs = rs.sort_index()"
   ]
  },
  {
   "cell_type": "code",
   "execution_count": 61,
   "metadata": {},
   "outputs": [],
   "source": [
    "# create a DataFrame for our chart\n",
    "stacked_bar_df = pd.DataFrame({'Year': ubi.index,\n",
    "                               'Ubi Soft' : ubi.values,\n",
    "                               'Nintendo' : nin.values,\n",
    "                               'EA Sports': eas.values,\n",
    "                               'Rockstar North': rs.values,\n",
    "                               'Capcom': cap.values})"
   ]
  },
  {
   "cell_type": "code",
   "execution_count": 62,
   "metadata": {},
   "outputs": [
    {
     "data": {
      "image/png": "[encoded data removed]",
      "text/plain": [
       "<Figure size 720x432 with 1 Axes>"
      ]
     },
     "metadata": {
      "needs_background": "light"
     },
     "output_type": "display_data"
    }
   ],
   "source": [
    "# generate and style a stacked bar chart\n",
    "stacked_bar_df.set_index('Year').plot(kind = 'bar', stacked = True)\n",
    "\n",
    "# add axis labels\n",
    "plt.xlabel('Year of Release')\n",
    "plt.ylabel('Cumulative Global Units Sold (in million)')\n",
    "\n",
    "# add title\n",
    "plt.title('Cumulative Global Units Sold for Games Released in the 21st Century by Top Developers',\n",
    "          pad = 20)\n",
    "\n",
    "#set y-axis range and interval\n",
    "plt.yticks(range(0,200,20))\n",
    "\n",
    "# rotate the xlabels\n",
    "plt.xticks(rotation = 45);"
   ]
  },
  {
   "cell_type": "code",
   "execution_count": 63,
   "metadata": {},
   "outputs": [
    {
     "data": {
      "text/plain": [
       "531.78"
      ]
     },
     "execution_count": 63,
     "metadata": {},
     "output_type": "execute_result"
    }
   ],
   "source": [
    "# calculate the cumulative units sold for all games that \n",
    "# were developed by Nintendo from 1980 to 2016\n",
    "vgs_df[vgs_df['Developer'] == 'Nintendo']['Global_Sales'].sum()"
   ]
  },
  {
   "cell_type": "markdown",
   "metadata": {},
   "source": [
    "- We can see Nintendo (in orange) has three huge columns in the chart in 2005, 2006 and 2009. Especially the column in 2006, which indicates that the games were released in 2006 and developed by Nintendo have a cumulative global units sold of around 150 million till December 22th 2016. That is, those games released in 2006 by Nintendo sold around 150 million units in 10 years.\n",
    "- Compare to the cumulative global units sold for all games from 1980 to 2016 by Nintendo, which is around 531.78 million; the games that were released in 2006 have taken more than 28% of it. That is a great hit in the video games market. I will take a close look to find out what games are they. "
   ]
  },
  {
   "cell_type": "code",
   "execution_count": 64,
   "metadata": {
    "scrolled": true
   },
   "outputs": [
    {
     "data": {
      "text/html": [
       "<div>\n",
       "<style scoped>\n",
       "    .dataframe tbody tr th:only-of-type {\n",
       "        vertical-align: middle;\n",
       "    }\n",
       "\n",
       "    .dataframe tbody tr th {\n",
       "        vertical-align: top;\n",
       "    }\n",
       "\n",
       "    .dataframe thead th {\n",
       "        text-align: right;\n",
       "    }\n",
       "</style>\n",
       "<table border=\"1\" class=\"dataframe\">\n",
       "  <thead>\n",
       "    <tr style=\"text-align: right;\">\n",
       "      <th></th>\n",
       "      <th>Name</th>\n",
       "      <th>Platform</th>\n",
       "      <th>Genre</th>\n",
       "      <th>Global_Sales</th>\n",
       "    </tr>\n",
       "  </thead>\n",
       "  <tbody>\n",
       "    <tr>\n",
       "      <th>0</th>\n",
       "      <td>Wii Sports</td>\n",
       "      <td>Wii</td>\n",
       "      <td>Sports</td>\n",
       "      <td>82.54</td>\n",
       "    </tr>\n",
       "    <tr>\n",
       "      <th>6</th>\n",
       "      <td>New Super Mario Bros.</td>\n",
       "      <td>DS</td>\n",
       "      <td>Platform</td>\n",
       "      <td>29.80</td>\n",
       "    </tr>\n",
       "    <tr>\n",
       "      <th>7</th>\n",
       "      <td>Wii Play</td>\n",
       "      <td>Wii</td>\n",
       "      <td>Misc</td>\n",
       "      <td>28.91</td>\n",
       "    </tr>\n",
       "    <tr>\n",
       "      <th>107</th>\n",
       "      <td>The Legend of Zelda: Twilight Princess</td>\n",
       "      <td>Wii</td>\n",
       "      <td>Action</td>\n",
       "      <td>7.16</td>\n",
       "    </tr>\n",
       "    <tr>\n",
       "      <th>787</th>\n",
       "      <td>Tetris DS</td>\n",
       "      <td>DS</td>\n",
       "      <td>Puzzle</td>\n",
       "      <td>2.11</td>\n",
       "    </tr>\n",
       "    <tr>\n",
       "      <th>1162</th>\n",
       "      <td>The Legend of Zelda: Twilight Princess</td>\n",
       "      <td>GC</td>\n",
       "      <td>Action</td>\n",
       "      <td>1.59</td>\n",
       "    </tr>\n",
       "    <tr>\n",
       "      <th>2686</th>\n",
       "      <td>Metroid Prime Hunters</td>\n",
       "      <td>DS</td>\n",
       "      <td>Shooter</td>\n",
       "      <td>0.78</td>\n",
       "    </tr>\n",
       "  </tbody>\n",
       "</table>\n",
       "</div>"
      ],
      "text/plain": [
       "                                        Name Platform     Genre  Global_Sales\n",
       "0                                 Wii Sports      Wii    Sports         82.54\n",
       "6                      New Super Mario Bros.       DS  Platform         29.80\n",
       "7                                   Wii Play      Wii      Misc         28.91\n",
       "107   The Legend of Zelda: Twilight Princess      Wii    Action          7.16\n",
       "787                                Tetris DS       DS    Puzzle          2.11\n",
       "1162  The Legend of Zelda: Twilight Princess       GC    Action          1.59\n",
       "2686                   Metroid Prime Hunters       DS   Shooter          0.78"
      ]
     },
     "execution_count": 64,
     "metadata": {},
     "output_type": "execute_result"
    }
   ],
   "source": [
    "# find out the games that were released in 2006 and developed by Nintendo\n",
    "# select their names, global sales, platforms and genres\n",
    "vgs_df.query(\"Developer == 'Nintendo' & Year_of_Release == 2006\")[['Name','Platform','Genre','Global_Sales']]"
   ]
  },
  {
   "cell_type": "markdown",
   "metadata": {},
   "source": [
    "- Seems that in 2006, the Wii video game console was very popular in the console market. It makes sense that Wii was first released in November 2006 with its novel gameplay by their innovated wireless controller.\n",
    "- As we can see from the above table, the game Will Sports and Wii Play add up with more than 110 million in cumulative global units sold till Dec 2016. Only for my guessing, that is because by combining the novel gameplay mode on Wii which enables players to interact with each other; and the sports and music genres, these games are popular among all-ages game players, which is suitable for parties or other social situations. "
   ]
  },
  {
   "cell_type": "markdown",
   "metadata": {},
   "source": [
    "## Asking and Answering Questions\n",
    "\n",
    "Let me ask some interesting questions and try my best to answer them. \n"
   ]
  },
  {
   "cell_type": "markdown",
   "metadata": {},
   "source": [
    "#### Q1: What are the top one games based on the cumulative global units sold, Metacritic's critic scores, and user scores? "
   ]
  },
  {
   "cell_type": "code",
   "execution_count": 65,
   "metadata": {},
   "outputs": [
    {
     "name": "stdout",
     "output_type": "stream",
     "text": [
      "The number one game in cumulative global unit sold is Wii Sports Wii version released in 2006 with a record of 82.54 million.\n"
     ]
    }
   ],
   "source": [
    "top_gs = vgs_df[['Name','Year_of_Release','Platform','Global_Sales']].sort_values('Global_Sales', ascending = False).head(1)\n",
    "print('The number one game in cumulative global unit sold is {} {} version released in {} with a record of {:.2f} million.'.format(top_gs.iat[0,0],top_gs.iat[0,2],top_gs.iat[0,1],top_gs.iat[0,3]))"
   ]
  },
  {
   "cell_type": "code",
   "execution_count": 66,
   "metadata": {
    "scrolled": true
   },
   "outputs": [
    {
     "name": "stdout",
     "output_type": "stream",
     "text": [
      "The number one game with the highest Critic Score is Grand Theft Auto IV X360 version released in 2008 with a score of 98.0 in Metacritic.\n"
     ]
    }
   ],
   "source": [
    "top_cs = vgs_df[['Name','Year_of_Release','Platform','Critic_Score']].sort_values('Critic_Score', ascending = False).head(1)\n",
    "print('The number one game with the highest Critic Score is {} {} version released in {} with a score of {} in Metacritic.'.format(top_cs.iat[0,0],top_cs.iat[0,2],top_cs.iat[0,1],top_cs.iat[0,3]))"
   ]
  },
  {
   "cell_type": "code",
   "execution_count": 67,
   "metadata": {},
   "outputs": [
    {
     "name": "stdout",
     "output_type": "stream",
     "text": [
      "The number one game with the highest User Score is Breath of Fire III PSP version released in 2005 with a score of 9.7 in Metacritic.\n"
     ]
    }
   ],
   "source": [
    "top_us = vgs_df[['Name','Year_of_Release','Platform','User_Score']].sort_values('User_Score', ascending = False).head(1)\n",
    "print('The number one game with the highest User Score is {} {} version released in {} with a score of {} in Metacritic.'.format(top_us.iat[0,0],top_us.iat[0,2],top_us.iat[0,1],top_us.iat[0,3]))"
   ]
  },
  {
   "cell_type": "markdown",
   "metadata": {},
   "source": [
    "#### Q2: What are the top one game for each genre base on the cumulative global units sold? "
   ]
  },
  {
   "cell_type": "code",
   "execution_count": 68,
   "metadata": {},
   "outputs": [],
   "source": [
    "# Let me write a small function for this question\n",
    "\n",
    "def topN_by_genre(n):\n",
    "    act = vgs_df[vgs_df['Genre'] == 'Action'].sort_values('Global_Sales', ascending = False).head(n)\n",
    "    spo = vgs_df[vgs_df['Genre'] == 'Sports'].sort_values('Global_Sales', ascending = False).head(n)\n",
    "    sho = vgs_df[vgs_df['Genre'] == 'Shooter'].sort_values('Global_Sales', ascending = False).head(n)\n",
    "    plat = vgs_df[vgs_df['Genre'] == 'Platform'].sort_values('Global_Sales', ascending = False).head(n)\n",
    "    rac = vgs_df[vgs_df['Genre'] == 'Racing'].sort_values('Global_Sales', ascending = False).head(n)\n",
    "    misc = vgs_df[vgs_df['Genre'] == 'Misc'].sort_values('Global_Sales', ascending = False).head(n)\n",
    "    puz = vgs_df[vgs_df['Genre'] == 'Puzzle'].sort_values('Global_Sales', ascending = False).head(n)\n",
    "    sim = vgs_df[vgs_df['Genre'] == 'Simulation'].sort_values('Global_Sales', ascending = False).head(n)\n",
    "    rp = vgs_df[vgs_df['Genre'] == 'Role-Playing'].sort_values('Global_Sales', ascending = False).head(n)\n",
    "    adv = vgs_df[vgs_df['Genre'] == 'Adventure'].sort_values('Global_Sales', ascending = False).head(n)\n",
    "    stra = vgs_df[vgs_df['Genre'] == 'Strategy'].sort_values('Global_Sales', ascending = False).head(n)\n",
    "    fig = vgs_df[vgs_df['Genre'] == 'Fighting'].sort_values('Global_Sales', ascending = False).head(n)\n",
    "    \n",
    "    df = act.append([spo, sho, rp, plat, fig, rac, adv, misc, puz, sim, stra])[['Name','Genre','Platform','Year_of_Release','Global_Sales']]\n",
    "    \n",
    "    return df"
   ]
  },
  {
   "cell_type": "code",
   "execution_count": 69,
   "metadata": {},
   "outputs": [
    {
     "data": {
      "text/html": [
       "<div>\n",
       "<style scoped>\n",
       "    .dataframe tbody tr th:only-of-type {\n",
       "        vertical-align: middle;\n",
       "    }\n",
       "\n",
       "    .dataframe tbody tr th {\n",
       "        vertical-align: top;\n",
       "    }\n",
       "\n",
       "    .dataframe thead th {\n",
       "        text-align: right;\n",
       "    }\n",
       "</style>\n",
       "<table border=\"1\" class=\"dataframe\">\n",
       "  <thead>\n",
       "    <tr style=\"text-align: right;\">\n",
       "      <th></th>\n",
       "      <th>Name</th>\n",
       "      <th>Genre</th>\n",
       "      <th>Platform</th>\n",
       "      <th>Year_of_Release</th>\n",
       "      <th>Global_Sales</th>\n",
       "    </tr>\n",
       "  </thead>\n",
       "  <tbody>\n",
       "    <tr>\n",
       "      <th>16</th>\n",
       "      <td>Grand Theft Auto V</td>\n",
       "      <td>Action</td>\n",
       "      <td>PS3</td>\n",
       "      <td>2013</td>\n",
       "      <td>21.05</td>\n",
       "    </tr>\n",
       "    <tr>\n",
       "      <th>0</th>\n",
       "      <td>Wii Sports</td>\n",
       "      <td>Sports</td>\n",
       "      <td>Wii</td>\n",
       "      <td>2006</td>\n",
       "      <td>82.54</td>\n",
       "    </tr>\n",
       "    <tr>\n",
       "      <th>9</th>\n",
       "      <td>Duck Hunt</td>\n",
       "      <td>Shooter</td>\n",
       "      <td>NES</td>\n",
       "      <td>1984</td>\n",
       "      <td>28.31</td>\n",
       "    </tr>\n",
       "    <tr>\n",
       "      <th>4</th>\n",
       "      <td>Pokemon Red/Pokemon Blue</td>\n",
       "      <td>Role-Playing</td>\n",
       "      <td>GB</td>\n",
       "      <td>1996</td>\n",
       "      <td>31.38</td>\n",
       "    </tr>\n",
       "    <tr>\n",
       "      <th>1</th>\n",
       "      <td>Super Mario Bros.</td>\n",
       "      <td>Platform</td>\n",
       "      <td>NES</td>\n",
       "      <td>1985</td>\n",
       "      <td>40.24</td>\n",
       "    </tr>\n",
       "    <tr>\n",
       "      <th>39</th>\n",
       "      <td>Super Smash Bros. Brawl</td>\n",
       "      <td>Fighting</td>\n",
       "      <td>Wii</td>\n",
       "      <td>2008</td>\n",
       "      <td>12.84</td>\n",
       "    </tr>\n",
       "    <tr>\n",
       "      <th>2</th>\n",
       "      <td>Mario Kart Wii</td>\n",
       "      <td>Racing</td>\n",
       "      <td>Wii</td>\n",
       "      <td>2008</td>\n",
       "      <td>35.52</td>\n",
       "    </tr>\n",
       "    <tr>\n",
       "      <th>50</th>\n",
       "      <td>Super Mario Land 2: 6 Golden Coins</td>\n",
       "      <td>Adventure</td>\n",
       "      <td>GB</td>\n",
       "      <td>1992</td>\n",
       "      <td>11.18</td>\n",
       "    </tr>\n",
       "    <tr>\n",
       "      <th>7</th>\n",
       "      <td>Wii Play</td>\n",
       "      <td>Misc</td>\n",
       "      <td>Wii</td>\n",
       "      <td>2006</td>\n",
       "      <td>28.91</td>\n",
       "    </tr>\n",
       "    <tr>\n",
       "      <th>5</th>\n",
       "      <td>Tetris</td>\n",
       "      <td>Puzzle</td>\n",
       "      <td>GB</td>\n",
       "      <td>1989</td>\n",
       "      <td>30.26</td>\n",
       "    </tr>\n",
       "    <tr>\n",
       "      <th>10</th>\n",
       "      <td>Nintendogs</td>\n",
       "      <td>Simulation</td>\n",
       "      <td>DS</td>\n",
       "      <td>2005</td>\n",
       "      <td>24.67</td>\n",
       "    </tr>\n",
       "    <tr>\n",
       "      <th>168</th>\n",
       "      <td>Pokemon Stadium</td>\n",
       "      <td>Strategy</td>\n",
       "      <td>N64</td>\n",
       "      <td>1999</td>\n",
       "      <td>5.45</td>\n",
       "    </tr>\n",
       "  </tbody>\n",
       "</table>\n",
       "</div>"
      ],
      "text/plain": [
       "                                   Name         Genre Platform  \\\n",
       "16                   Grand Theft Auto V        Action      PS3   \n",
       "0                            Wii Sports        Sports      Wii   \n",
       "9                             Duck Hunt       Shooter      NES   \n",
       "4              Pokemon Red/Pokemon Blue  Role-Playing       GB   \n",
       "1                     Super Mario Bros.      Platform      NES   \n",
       "39              Super Smash Bros. Brawl      Fighting      Wii   \n",
       "2                        Mario Kart Wii        Racing      Wii   \n",
       "50   Super Mario Land 2: 6 Golden Coins     Adventure       GB   \n",
       "7                              Wii Play          Misc      Wii   \n",
       "5                                Tetris        Puzzle       GB   \n",
       "10                           Nintendogs    Simulation       DS   \n",
       "168                     Pokemon Stadium      Strategy      N64   \n",
       "\n",
       "     Year_of_Release  Global_Sales  \n",
       "16              2013         21.05  \n",
       "0               2006         82.54  \n",
       "9               1984         28.31  \n",
       "4               1996         31.38  \n",
       "1               1985         40.24  \n",
       "39              2008         12.84  \n",
       "2               2008         35.52  \n",
       "50              1992         11.18  \n",
       "7               2006         28.91  \n",
       "5               1989         30.26  \n",
       "10              2005         24.67  \n",
       "168             1999          5.45  "
      ]
     },
     "execution_count": 69,
     "metadata": {},
     "output_type": "execute_result"
    }
   ],
   "source": [
    "# input 1 for top one game for each genre\n",
    "# if you want top three game, try to input 3\n",
    "topN_by_genre(1)"
   ]
  },
  {
   "cell_type": "markdown",
   "metadata": {},
   "source": [
    "- I am so surprised to know that the most popular shooter game is *Duck Hunt* released in 1984 ! ! Which has a cumulative units sold of 28.31 million, poor ducks. "
   ]
  },
  {
   "cell_type": "markdown",
   "metadata": {},
   "source": [
    "#### Q3: What is the most popular genre and the most popular developer by region accoding to the cumulative units sold. "
   ]
  },
  {
   "cell_type": "code",
   "execution_count": 70,
   "metadata": {},
   "outputs": [
    {
     "data": {
      "text/html": [
       "<div>\n",
       "<style scoped>\n",
       "    .dataframe tbody tr th:only-of-type {\n",
       "        vertical-align: middle;\n",
       "    }\n",
       "\n",
       "    .dataframe tbody tr th {\n",
       "        vertical-align: top;\n",
       "    }\n",
       "\n",
       "    .dataframe thead th {\n",
       "        text-align: right;\n",
       "    }\n",
       "</style>\n",
       "<table border=\"1\" class=\"dataframe\">\n",
       "  <thead>\n",
       "    <tr style=\"text-align: right;\">\n",
       "      <th></th>\n",
       "      <th>NA_Sales</th>\n",
       "      <th>EU_Sales</th>\n",
       "      <th>JP_Sales</th>\n",
       "      <th>Other_Sales</th>\n",
       "    </tr>\n",
       "    <tr>\n",
       "      <th>Genre</th>\n",
       "      <th></th>\n",
       "      <th></th>\n",
       "      <th></th>\n",
       "      <th></th>\n",
       "    </tr>\n",
       "  </thead>\n",
       "  <tbody>\n",
       "    <tr>\n",
       "      <th>Action</th>\n",
       "      <td>863.17</td>\n",
       "      <td>510.99</td>\n",
       "      <td>160.14</td>\n",
       "      <td>182.22</td>\n",
       "    </tr>\n",
       "    <tr>\n",
       "      <th>Adventure</th>\n",
       "      <td>101.52</td>\n",
       "      <td>63.20</td>\n",
       "      <td>52.24</td>\n",
       "      <td>16.37</td>\n",
       "    </tr>\n",
       "    <tr>\n",
       "      <th>Fighting</th>\n",
       "      <td>220.51</td>\n",
       "      <td>99.00</td>\n",
       "      <td>87.28</td>\n",
       "      <td>35.87</td>\n",
       "    </tr>\n",
       "    <tr>\n",
       "      <th>Misc</th>\n",
       "      <td>399.57</td>\n",
       "      <td>210.60</td>\n",
       "      <td>107.02</td>\n",
       "      <td>73.10</td>\n",
       "    </tr>\n",
       "    <tr>\n",
       "      <th>Platform</th>\n",
       "      <td>444.44</td>\n",
       "      <td>199.39</td>\n",
       "      <td>130.71</td>\n",
       "      <td>51.01</td>\n",
       "    </tr>\n",
       "    <tr>\n",
       "      <th>Puzzle</th>\n",
       "      <td>121.13</td>\n",
       "      <td>49.78</td>\n",
       "      <td>56.68</td>\n",
       "      <td>12.30</td>\n",
       "    </tr>\n",
       "    <tr>\n",
       "      <th>Racing</th>\n",
       "      <td>356.86</td>\n",
       "      <td>234.49</td>\n",
       "      <td>56.63</td>\n",
       "      <td>75.51</td>\n",
       "    </tr>\n",
       "    <tr>\n",
       "      <th>Role-Playing</th>\n",
       "      <td>330.04</td>\n",
       "      <td>188.24</td>\n",
       "      <td>353.39</td>\n",
       "      <td>59.41</td>\n",
       "    </tr>\n",
       "    <tr>\n",
       "      <th>Shooter</th>\n",
       "      <td>584.83</td>\n",
       "      <td>314.52</td>\n",
       "      <td>38.68</td>\n",
       "      <td>103.33</td>\n",
       "    </tr>\n",
       "    <tr>\n",
       "      <th>Simulation</th>\n",
       "      <td>180.40</td>\n",
       "      <td>113.35</td>\n",
       "      <td>63.64</td>\n",
       "      <td>30.57</td>\n",
       "    </tr>\n",
       "    <tr>\n",
       "      <th>Sports</th>\n",
       "      <td>671.20</td>\n",
       "      <td>371.33</td>\n",
       "      <td>134.93</td>\n",
       "      <td>132.21</td>\n",
       "    </tr>\n",
       "    <tr>\n",
       "      <th>Strategy</th>\n",
       "      <td>67.75</td>\n",
       "      <td>44.79</td>\n",
       "      <td>49.30</td>\n",
       "      <td>10.73</td>\n",
       "    </tr>\n",
       "  </tbody>\n",
       "</table>\n",
       "</div>"
      ],
      "text/plain": [
       "              NA_Sales  EU_Sales  JP_Sales  Other_Sales\n",
       "Genre                                                  \n",
       "Action          863.17    510.99    160.14       182.22\n",
       "Adventure       101.52     63.20     52.24        16.37\n",
       "Fighting        220.51     99.00     87.28        35.87\n",
       "Misc            399.57    210.60    107.02        73.10\n",
       "Platform        444.44    199.39    130.71        51.01\n",
       "Puzzle          121.13     49.78     56.68        12.30\n",
       "Racing          356.86    234.49     56.63        75.51\n",
       "Role-Playing    330.04    188.24    353.39        59.41\n",
       "Shooter         584.83    314.52     38.68       103.33\n",
       "Simulation      180.40    113.35     63.64        30.57\n",
       "Sports          671.20    371.33    134.93       132.21\n",
       "Strategy         67.75     44.79     49.30        10.73"
      ]
     },
     "execution_count": 70,
     "metadata": {},
     "output_type": "execute_result"
    }
   ],
   "source": [
    "# most popular genre by region \n",
    "vgs_df.groupby('Genre')[['NA_Sales','EU_Sales','JP_Sales','Other_Sales']].sum()"
   ]
  },
  {
   "cell_type": "markdown",
   "metadata": {},
   "source": [
    "- The most popular genre in North America, Europe, Japan, and the rest of the world is action, action, role-playing, and action respectively. "
   ]
  },
  {
   "cell_type": "code",
   "execution_count": 71,
   "metadata": {},
   "outputs": [
    {
     "name": "stdout",
     "output_type": "stream",
     "text": [
      "The most popular developer in North America is Nintendo.\n",
      "The most popular developer in Europe is Nintendo.\n",
      "The most popular developer in Japan is Nintendo.\n",
      "The most popular developer in rest of the world is Nintendo.\n"
     ]
    }
   ],
   "source": [
    "# most popular developer by region\n",
    "dev_na = vgs_df.groupby('Developer')['NA_Sales'].sum().sort_values(ascending = False).head(1).reset_index().iat[0,0]\n",
    "dev_eu = vgs_df.groupby('Developer')['EU_Sales'].sum().sort_values(ascending = False).head(1).reset_index().iat[0,0]\n",
    "dev_jp = vgs_df.groupby('Developer')['JP_Sales'].sum().sort_values(ascending = False).head(1).reset_index().iat[0,0]\n",
    "dev_oth = vgs_df.groupby('Developer')['Other_Sales'].sum().sort_values(ascending = False).head(1).reset_index().iat[0,0]\n",
    "\n",
    "print('The most popular developer in North America is {}.'.format(dev_na))\n",
    "print('The most popular developer in Europe is {}.'.format(dev_eu))\n",
    "print('The most popular developer in Japan is {}.'.format(dev_jp))\n",
    "print('The most popular developer in rest of the world is {}.'.format(dev_oth))"
   ]
  },
  {
   "cell_type": "markdown",
   "metadata": {},
   "source": [
    "- Well, seems **Nintendo** is favored by game players all over the world. "
   ]
  },
  {
   "cell_type": "markdown",
   "metadata": {},
   "source": [
    "I want to show Nintendo's logo here by using `PIL` to display an image. "
   ]
  },
  {
   "cell_type": "code",
   "execution_count": 72,
   "metadata": {},
   "outputs": [],
   "source": [
    "# import urlretrieve to download the image\n",
    "from urllib.request import urlretrieve\n",
    "urlretrieve('https://upload.wikimedia.org/wikipedia/commons/9/95/Nintendo_Logo_2017.png',\n",
    "            'nin_logo.png');"
   ]
  },
  {
   "cell_type": "code",
   "execution_count": 73,
   "metadata": {},
   "outputs": [],
   "source": [
    "# also import PIL library to read the image\n",
    "from PIL import Image\n",
    "nin_logo = Image.open('nin_logo.png')"
   ]
  },
  {
   "cell_type": "code",
   "execution_count": 74,
   "metadata": {},
   "outputs": [
    {
     "data": {
      "image/png": "[encoded data removed]",
      "text/plain": [
       "<Figure size 720x432 with 1 Axes>"
      ]
     },
     "metadata": {
      "needs_background": "light"
     },
     "output_type": "display_data"
    }
   ],
   "source": [
    "# display the image using imshow function then turn off the axis and grids\n",
    "plt.imshow(nin_logo)\n",
    "plt.axis('off')\n",
    "plt.grid(False)\n",
    "# add a title\n",
    "plt.title('Nintendo LOGO (2016 - precent)');"
   ]
  },
  {
   "cell_type": "markdown",
   "metadata": {},
   "source": [
    "#### Q4: What are the max, min, median and average critic score and user score for all games  on *Metacritic* by genre. "
   ]
  },
  {
   "cell_type": "code",
   "execution_count": 75,
   "metadata": {},
   "outputs": [
    {
     "data": {
      "text/html": [
       "<div>\n",
       "<style scoped>\n",
       "    .dataframe tbody tr th:only-of-type {\n",
       "        vertical-align: middle;\n",
       "    }\n",
       "\n",
       "    .dataframe tbody tr th {\n",
       "        vertical-align: top;\n",
       "    }\n",
       "\n",
       "    .dataframe thead tr th {\n",
       "        text-align: left;\n",
       "    }\n",
       "\n",
       "    .dataframe thead tr:last-of-type th {\n",
       "        text-align: right;\n",
       "    }\n",
       "</style>\n",
       "<table border=\"1\" class=\"dataframe\">\n",
       "  <thead>\n",
       "    <tr>\n",
       "      <th></th>\n",
       "      <th colspan=\"4\" halign=\"left\">Critic_Score</th>\n",
       "      <th colspan=\"4\" halign=\"left\">User_Score</th>\n",
       "    </tr>\n",
       "    <tr>\n",
       "      <th></th>\n",
       "      <th>amin</th>\n",
       "      <th>amax</th>\n",
       "      <th>median</th>\n",
       "      <th>mean</th>\n",
       "      <th>amin</th>\n",
       "      <th>amax</th>\n",
       "      <th>median</th>\n",
       "      <th>mean</th>\n",
       "    </tr>\n",
       "    <tr>\n",
       "      <th>Genre</th>\n",
       "      <th></th>\n",
       "      <th></th>\n",
       "      <th></th>\n",
       "      <th></th>\n",
       "      <th></th>\n",
       "      <th></th>\n",
       "      <th></th>\n",
       "      <th></th>\n",
       "    </tr>\n",
       "  </thead>\n",
       "  <tbody>\n",
       "    <tr>\n",
       "      <th>Action</th>\n",
       "      <td>19.0</td>\n",
       "      <td>98.0</td>\n",
       "      <td>68.0</td>\n",
       "      <td>66.676931</td>\n",
       "      <td>0.3</td>\n",
       "      <td>9.5</td>\n",
       "      <td>7.4</td>\n",
       "      <td>7.058129</td>\n",
       "    </tr>\n",
       "    <tr>\n",
       "      <th>Adventure</th>\n",
       "      <td>17.0</td>\n",
       "      <td>93.0</td>\n",
       "      <td>66.0</td>\n",
       "      <td>65.268750</td>\n",
       "      <td>0.0</td>\n",
       "      <td>9.4</td>\n",
       "      <td>7.6</td>\n",
       "      <td>7.139597</td>\n",
       "    </tr>\n",
       "    <tr>\n",
       "      <th>Fighting</th>\n",
       "      <td>23.0</td>\n",
       "      <td>98.0</td>\n",
       "      <td>72.0</td>\n",
       "      <td>69.155556</td>\n",
       "      <td>0.9</td>\n",
       "      <td>9.2</td>\n",
       "      <td>7.6</td>\n",
       "      <td>7.295949</td>\n",
       "    </tr>\n",
       "    <tr>\n",
       "      <th>Misc</th>\n",
       "      <td>19.0</td>\n",
       "      <td>93.0</td>\n",
       "      <td>69.0</td>\n",
       "      <td>66.648330</td>\n",
       "      <td>0.5</td>\n",
       "      <td>9.2</td>\n",
       "      <td>7.1</td>\n",
       "      <td>6.805828</td>\n",
       "    </tr>\n",
       "    <tr>\n",
       "      <th>Platform</th>\n",
       "      <td>19.0</td>\n",
       "      <td>97.0</td>\n",
       "      <td>69.5</td>\n",
       "      <td>68.124490</td>\n",
       "      <td>0.2</td>\n",
       "      <td>9.4</td>\n",
       "      <td>7.7</td>\n",
       "      <td>7.305896</td>\n",
       "    </tr>\n",
       "    <tr>\n",
       "      <th>Puzzle</th>\n",
       "      <td>25.0</td>\n",
       "      <td>90.0</td>\n",
       "      <td>70.0</td>\n",
       "      <td>67.231818</td>\n",
       "      <td>1.1</td>\n",
       "      <td>9.3</td>\n",
       "      <td>7.5</td>\n",
       "      <td>7.138400</td>\n",
       "    </tr>\n",
       "    <tr>\n",
       "      <th>Racing</th>\n",
       "      <td>13.0</td>\n",
       "      <td>96.0</td>\n",
       "      <td>69.0</td>\n",
       "      <td>68.006897</td>\n",
       "      <td>0.3</td>\n",
       "      <td>9.5</td>\n",
       "      <td>7.4</td>\n",
       "      <td>7.040859</td>\n",
       "    </tr>\n",
       "    <tr>\n",
       "      <th>Role-Playing</th>\n",
       "      <td>35.0</td>\n",
       "      <td>96.0</td>\n",
       "      <td>74.0</td>\n",
       "      <td>72.655267</td>\n",
       "      <td>1.4</td>\n",
       "      <td>9.7</td>\n",
       "      <td>7.8</td>\n",
       "      <td>7.624423</td>\n",
       "    </tr>\n",
       "    <tr>\n",
       "      <th>Shooter</th>\n",
       "      <td>27.0</td>\n",
       "      <td>97.0</td>\n",
       "      <td>73.0</td>\n",
       "      <td>70.260022</td>\n",
       "      <td>1.2</td>\n",
       "      <td>9.3</td>\n",
       "      <td>7.4</td>\n",
       "      <td>7.053260</td>\n",
       "    </tr>\n",
       "    <tr>\n",
       "      <th>Simulation</th>\n",
       "      <td>31.0</td>\n",
       "      <td>92.0</td>\n",
       "      <td>70.0</td>\n",
       "      <td>68.609195</td>\n",
       "      <td>2.1</td>\n",
       "      <td>9.6</td>\n",
       "      <td>7.5</td>\n",
       "      <td>7.132153</td>\n",
       "    </tr>\n",
       "    <tr>\n",
       "      <th>Sports</th>\n",
       "      <td>19.0</td>\n",
       "      <td>98.0</td>\n",
       "      <td>75.0</td>\n",
       "      <td>71.993133</td>\n",
       "      <td>0.2</td>\n",
       "      <td>9.5</td>\n",
       "      <td>7.4</td>\n",
       "      <td>6.951434</td>\n",
       "    </tr>\n",
       "    <tr>\n",
       "      <th>Strategy</th>\n",
       "      <td>35.0</td>\n",
       "      <td>94.0</td>\n",
       "      <td>73.0</td>\n",
       "      <td>72.158784</td>\n",
       "      <td>0.6</td>\n",
       "      <td>9.4</td>\n",
       "      <td>7.8</td>\n",
       "      <td>7.294426</td>\n",
       "    </tr>\n",
       "  </tbody>\n",
       "</table>\n",
       "</div>"
      ],
      "text/plain": [
       "             Critic_Score                         User_Score              \\\n",
       "                     amin  amax median       mean       amin amax median   \n",
       "Genre                                                                      \n",
       "Action               19.0  98.0   68.0  66.676931        0.3  9.5    7.4   \n",
       "Adventure            17.0  93.0   66.0  65.268750        0.0  9.4    7.6   \n",
       "Fighting             23.0  98.0   72.0  69.155556        0.9  9.2    7.6   \n",
       "Misc                 19.0  93.0   69.0  66.648330        0.5  9.2    7.1   \n",
       "Platform             19.0  97.0   69.5  68.124490        0.2  9.4    7.7   \n",
       "Puzzle               25.0  90.0   70.0  67.231818        1.1  9.3    7.5   \n",
       "Racing               13.0  96.0   69.0  68.006897        0.3  9.5    7.4   \n",
       "Role-Playing         35.0  96.0   74.0  72.655267        1.4  9.7    7.8   \n",
       "Shooter              27.0  97.0   73.0  70.260022        1.2  9.3    7.4   \n",
       "Simulation           31.0  92.0   70.0  68.609195        2.1  9.6    7.5   \n",
       "Sports               19.0  98.0   75.0  71.993133        0.2  9.5    7.4   \n",
       "Strategy             35.0  94.0   73.0  72.158784        0.6  9.4    7.8   \n",
       "\n",
       "                        \n",
       "                  mean  \n",
       "Genre                   \n",
       "Action        7.058129  \n",
       "Adventure     7.139597  \n",
       "Fighting      7.295949  \n",
       "Misc          6.805828  \n",
       "Platform      7.305896  \n",
       "Puzzle        7.138400  \n",
       "Racing        7.040859  \n",
       "Role-Playing  7.624423  \n",
       "Shooter       7.053260  \n",
       "Simulation    7.132153  \n",
       "Sports        6.951434  \n",
       "Strategy      7.294426  "
      ]
     },
     "execution_count": 75,
     "metadata": {},
     "output_type": "execute_result"
    }
   ],
   "source": [
    "vgs_df.groupby('Genre')[['Critic_Score','User_Score']].agg([np.min, np.max, np.median, np.mean,])"
   ]
  },
  {
   "cell_type": "markdown",
   "metadata": {},
   "source": [
    "Note that `Critic_Score` is in 0-100 scale, `User_Score` is in 0-10 scale. "
   ]
  },
  {
   "cell_type": "markdown",
   "metadata": {},
   "source": [
    "#### Q5: Given the name of a game, evaluate it by the scores on *Metacritic*. "
   ]
  },
  {
   "cell_type": "markdown",
   "metadata": {},
   "source": [
    "I don't want to evaluate a game simply with its critic score and user score on *Metacritic*. I think it will be a good idea to make a **benchmark** for each genre then compare the game with it. "
   ]
  },
  {
   "cell_type": "code",
   "execution_count": 76,
   "metadata": {},
   "outputs": [
    {
     "data": {
      "text/html": [
       "<div>\n",
       "<style scoped>\n",
       "    .dataframe tbody tr th:only-of-type {\n",
       "        vertical-align: middle;\n",
       "    }\n",
       "\n",
       "    .dataframe tbody tr th {\n",
       "        vertical-align: top;\n",
       "    }\n",
       "\n",
       "    .dataframe thead tr th {\n",
       "        text-align: left;\n",
       "    }\n",
       "\n",
       "    .dataframe thead tr:last-of-type th {\n",
       "        text-align: right;\n",
       "    }\n",
       "</style>\n",
       "<table border=\"1\" class=\"dataframe\">\n",
       "  <thead>\n",
       "    <tr>\n",
       "      <th></th>\n",
       "      <th colspan=\"4\" halign=\"left\">Critic_Count</th>\n",
       "      <th colspan=\"4\" halign=\"left\">User_Count</th>\n",
       "    </tr>\n",
       "    <tr>\n",
       "      <th></th>\n",
       "      <th>amin</th>\n",
       "      <th>amax</th>\n",
       "      <th>median</th>\n",
       "      <th>mean</th>\n",
       "      <th>amin</th>\n",
       "      <th>amax</th>\n",
       "      <th>median</th>\n",
       "      <th>mean</th>\n",
       "    </tr>\n",
       "    <tr>\n",
       "      <th>Genre</th>\n",
       "      <th></th>\n",
       "      <th></th>\n",
       "      <th></th>\n",
       "      <th></th>\n",
       "      <th></th>\n",
       "      <th></th>\n",
       "      <th></th>\n",
       "      <th></th>\n",
       "    </tr>\n",
       "  </thead>\n",
       "  <tbody>\n",
       "    <tr>\n",
       "      <th>Action</th>\n",
       "      <td>4.0</td>\n",
       "      <td>106.0</td>\n",
       "      <td>23.0</td>\n",
       "      <td>27.891950</td>\n",
       "      <td>4.0</td>\n",
       "      <td>8003.0</td>\n",
       "      <td>28.0</td>\n",
       "      <td>188.763920</td>\n",
       "    </tr>\n",
       "    <tr>\n",
       "      <th>Adventure</th>\n",
       "      <td>4.0</td>\n",
       "      <td>107.0</td>\n",
       "      <td>17.0</td>\n",
       "      <td>22.246875</td>\n",
       "      <td>4.0</td>\n",
       "      <td>2759.0</td>\n",
       "      <td>17.0</td>\n",
       "      <td>103.953020</td>\n",
       "    </tr>\n",
       "    <tr>\n",
       "      <th>Fighting</th>\n",
       "      <td>4.0</td>\n",
       "      <td>81.0</td>\n",
       "      <td>25.0</td>\n",
       "      <td>27.960494</td>\n",
       "      <td>4.0</td>\n",
       "      <td>1662.0</td>\n",
       "      <td>27.0</td>\n",
       "      <td>64.597468</td>\n",
       "    </tr>\n",
       "    <tr>\n",
       "      <th>Misc</th>\n",
       "      <td>4.0</td>\n",
       "      <td>76.0</td>\n",
       "      <td>17.0</td>\n",
       "      <td>21.683694</td>\n",
       "      <td>4.0</td>\n",
       "      <td>471.0</td>\n",
       "      <td>13.0</td>\n",
       "      <td>30.799534</td>\n",
       "    </tr>\n",
       "    <tr>\n",
       "      <th>Platform</th>\n",
       "      <td>4.0</td>\n",
       "      <td>87.0</td>\n",
       "      <td>17.0</td>\n",
       "      <td>23.767347</td>\n",
       "      <td>4.0</td>\n",
       "      <td>5311.0</td>\n",
       "      <td>22.0</td>\n",
       "      <td>109.674528</td>\n",
       "    </tr>\n",
       "    <tr>\n",
       "      <th>Puzzle</th>\n",
       "      <td>4.0</td>\n",
       "      <td>78.0</td>\n",
       "      <td>14.0</td>\n",
       "      <td>20.454545</td>\n",
       "      <td>4.0</td>\n",
       "      <td>607.0</td>\n",
       "      <td>11.0</td>\n",
       "      <td>33.120000</td>\n",
       "    </tr>\n",
       "    <tr>\n",
       "      <th>Racing</th>\n",
       "      <td>4.0</td>\n",
       "      <td>90.0</td>\n",
       "      <td>17.0</td>\n",
       "      <td>23.121379</td>\n",
       "      <td>4.0</td>\n",
       "      <td>1599.0</td>\n",
       "      <td>17.0</td>\n",
       "      <td>69.228935</td>\n",
       "    </tr>\n",
       "    <tr>\n",
       "      <th>Role-Playing</th>\n",
       "      <td>4.0</td>\n",
       "      <td>98.0</td>\n",
       "      <td>30.0</td>\n",
       "      <td>32.514364</td>\n",
       "      <td>4.0</td>\n",
       "      <td>10665.0</td>\n",
       "      <td>50.0</td>\n",
       "      <td>321.928087</td>\n",
       "    </tr>\n",
       "    <tr>\n",
       "      <th>Shooter</th>\n",
       "      <td>4.0</td>\n",
       "      <td>113.0</td>\n",
       "      <td>32.0</td>\n",
       "      <td>35.679307</td>\n",
       "      <td>4.0</td>\n",
       "      <td>9851.0</td>\n",
       "      <td>61.0</td>\n",
       "      <td>378.280663</td>\n",
       "    </tr>\n",
       "    <tr>\n",
       "      <th>Simulation</th>\n",
       "      <td>4.0</td>\n",
       "      <td>75.0</td>\n",
       "      <td>17.0</td>\n",
       "      <td>21.419540</td>\n",
       "      <td>4.0</td>\n",
       "      <td>4572.0</td>\n",
       "      <td>20.0</td>\n",
       "      <td>83.421829</td>\n",
       "    </tr>\n",
       "    <tr>\n",
       "      <th>Sports</th>\n",
       "      <td>4.0</td>\n",
       "      <td>75.0</td>\n",
       "      <td>18.0</td>\n",
       "      <td>21.050644</td>\n",
       "      <td>4.0</td>\n",
       "      <td>1290.0</td>\n",
       "      <td>16.0</td>\n",
       "      <td>41.875116</td>\n",
       "    </tr>\n",
       "    <tr>\n",
       "      <th>Strategy</th>\n",
       "      <td>3.0</td>\n",
       "      <td>104.0</td>\n",
       "      <td>25.0</td>\n",
       "      <td>28.331081</td>\n",
       "      <td>4.0</td>\n",
       "      <td>6157.0</td>\n",
       "      <td>34.0</td>\n",
       "      <td>198.413115</td>\n",
       "    </tr>\n",
       "  </tbody>\n",
       "</table>\n",
       "</div>"
      ],
      "text/plain": [
       "             Critic_Count                          User_Count                  \\\n",
       "                     amin   amax median       mean       amin     amax median   \n",
       "Genre                                                                           \n",
       "Action                4.0  106.0   23.0  27.891950        4.0   8003.0   28.0   \n",
       "Adventure             4.0  107.0   17.0  22.246875        4.0   2759.0   17.0   \n",
       "Fighting              4.0   81.0   25.0  27.960494        4.0   1662.0   27.0   \n",
       "Misc                  4.0   76.0   17.0  21.683694        4.0    471.0   13.0   \n",
       "Platform              4.0   87.0   17.0  23.767347        4.0   5311.0   22.0   \n",
       "Puzzle                4.0   78.0   14.0  20.454545        4.0    607.0   11.0   \n",
       "Racing                4.0   90.0   17.0  23.121379        4.0   1599.0   17.0   \n",
       "Role-Playing          4.0   98.0   30.0  32.514364        4.0  10665.0   50.0   \n",
       "Shooter               4.0  113.0   32.0  35.679307        4.0   9851.0   61.0   \n",
       "Simulation            4.0   75.0   17.0  21.419540        4.0   4572.0   20.0   \n",
       "Sports                4.0   75.0   18.0  21.050644        4.0   1290.0   16.0   \n",
       "Strategy              3.0  104.0   25.0  28.331081        4.0   6157.0   34.0   \n",
       "\n",
       "                          \n",
       "                    mean  \n",
       "Genre                     \n",
       "Action        188.763920  \n",
       "Adventure     103.953020  \n",
       "Fighting       64.597468  \n",
       "Misc           30.799534  \n",
       "Platform      109.674528  \n",
       "Puzzle         33.120000  \n",
       "Racing         69.228935  \n",
       "Role-Playing  321.928087  \n",
       "Shooter       378.280663  \n",
       "Simulation     83.421829  \n",
       "Sports         41.875116  \n",
       "Strategy      198.413115  "
      ]
     },
     "execution_count": 76,
     "metadata": {},
     "output_type": "execute_result"
    }
   ],
   "source": [
    "# Let me check the critic count and user count on Metacritic by genre first.  \n",
    "vgs_df.groupby('Genre')[['Critic_Count', 'User_Count']].agg([np.min,np.max,np.median,np.mean])"
   ]
  },
  {
   "cell_type": "markdown",
   "metadata": {},
   "source": [
    "I will only take the scores for those games with more than 20 in `Critic_Count` and more than 50 in `User_Count` to make the benchmark for each genre. "
   ]
  },
  {
   "cell_type": "code",
   "execution_count": 77,
   "metadata": {},
   "outputs": [],
   "source": [
    "# defind a small function for the question\n",
    "def eva_game():\n",
    "    name = str(input('Please enter the full official name of the game you want to evaluate.'))\n",
    "    game = vgs_df[vgs_df.Name == name][['Name','Genre','Platform','Year_of_Release','Critic_Score','Critic_Count','User_Score','User_Count']]\n",
    "    bench = vgs_df.query(\"Critic_Count >= 20 & User_Count >= 50\").groupby('Genre')[['Critic_Score','User_Score']].agg(np.mean).reset_index()\n",
    "    \n",
    "    cri_avg = \"{:.1f}\".format(bench[bench.Genre == game.iat[0,1]].iat[0,1])\n",
    "    usr_avg = \"{:.1f}\".format(bench[bench.Genre == game.iat[0,1]].iat[0,2])\n",
    "    game['Critic_Score_Benchmark'] = game['Name'].str.len()\n",
    "    game['User_Score_Benchmark'] = game['Name'].str.len()\n",
    "    game['Critic_Score_Benchmark'] = cri_avg\n",
    "    game['User_Score_Benchmark'] = usr_avg\n",
    "\n",
    "    return game"
   ]
  },
  {
   "cell_type": "code",
   "execution_count": null,
   "metadata": {},
   "outputs": [],
   "source": [
    "# find a random game and extract its name to check\n",
    "vgs_df.sample(1).iat[0,0]"
   ]
  },
  {
   "cell_type": "code",
   "execution_count": 78,
   "metadata": {},
   "outputs": [
    {
     "name": "stdout",
     "output_type": "stream",
     "text": [
      "Please enter the full official name of the game you want to evaluate.LEGO Harry Potter: Years 1-4\n"
     ]
    },
    {
     "data": {
      "text/html": [
       "<div>\n",
       "<style scoped>\n",
       "    .dataframe tbody tr th:only-of-type {\n",
       "        vertical-align: middle;\n",
       "    }\n",
       "\n",
       "    .dataframe tbody tr th {\n",
       "        vertical-align: top;\n",
       "    }\n",
       "\n",
       "    .dataframe thead th {\n",
       "        text-align: right;\n",
       "    }\n",
       "</style>\n",
       "<table border=\"1\" class=\"dataframe\">\n",
       "  <thead>\n",
       "    <tr style=\"text-align: right;\">\n",
       "      <th></th>\n",
       "      <th>Name</th>\n",
       "      <th>Genre</th>\n",
       "      <th>Platform</th>\n",
       "      <th>Year_of_Release</th>\n",
       "      <th>Critic_Score</th>\n",
       "      <th>Critic_Count</th>\n",
       "      <th>User_Score</th>\n",
       "      <th>User_Count</th>\n",
       "      <th>Critic_Score_Benchmark</th>\n",
       "      <th>User_Score_Benchmark</th>\n",
       "    </tr>\n",
       "  </thead>\n",
       "  <tbody>\n",
       "    <tr>\n",
       "      <th>638</th>\n",
       "      <td>LEGO Harry Potter: Years 1-4</td>\n",
       "      <td>Action</td>\n",
       "      <td>Wii</td>\n",
       "      <td>2010</td>\n",
       "      <td>79.0</td>\n",
       "      <td>13.0</td>\n",
       "      <td>8.0</td>\n",
       "      <td>34.0</td>\n",
       "      <td>77.1</td>\n",
       "      <td>7.5</td>\n",
       "    </tr>\n",
       "    <tr>\n",
       "      <th>700</th>\n",
       "      <td>LEGO Harry Potter: Years 1-4</td>\n",
       "      <td>Action</td>\n",
       "      <td>DS</td>\n",
       "      <td>2010</td>\n",
       "      <td>72.0</td>\n",
       "      <td>7.0</td>\n",
       "      <td>7.2</td>\n",
       "      <td>6.0</td>\n",
       "      <td>77.1</td>\n",
       "      <td>7.5</td>\n",
       "    </tr>\n",
       "    <tr>\n",
       "      <th>1203</th>\n",
       "      <td>LEGO Harry Potter: Years 1-4</td>\n",
       "      <td>Action</td>\n",
       "      <td>X360</td>\n",
       "      <td>2010</td>\n",
       "      <td>79.0</td>\n",
       "      <td>58.0</td>\n",
       "      <td>8.0</td>\n",
       "      <td>62.0</td>\n",
       "      <td>77.1</td>\n",
       "      <td>7.5</td>\n",
       "    </tr>\n",
       "    <tr>\n",
       "      <th>1497</th>\n",
       "      <td>LEGO Harry Potter: Years 1-4</td>\n",
       "      <td>Action</td>\n",
       "      <td>PS3</td>\n",
       "      <td>2010</td>\n",
       "      <td>79.0</td>\n",
       "      <td>42.0</td>\n",
       "      <td>8.0</td>\n",
       "      <td>52.0</td>\n",
       "      <td>77.1</td>\n",
       "      <td>7.5</td>\n",
       "    </tr>\n",
       "    <tr>\n",
       "      <th>2993</th>\n",
       "      <td>LEGO Harry Potter: Years 1-4</td>\n",
       "      <td>Action</td>\n",
       "      <td>PSP</td>\n",
       "      <td>2010</td>\n",
       "      <td>71.0</td>\n",
       "      <td>4.0</td>\n",
       "      <td>NaN</td>\n",
       "      <td>NaN</td>\n",
       "      <td>77.1</td>\n",
       "      <td>7.5</td>\n",
       "    </tr>\n",
       "    <tr>\n",
       "      <th>14759</th>\n",
       "      <td>LEGO Harry Potter: Years 1-4</td>\n",
       "      <td>Action</td>\n",
       "      <td>PC</td>\n",
       "      <td>2010</td>\n",
       "      <td>79.0</td>\n",
       "      <td>15.0</td>\n",
       "      <td>7.9</td>\n",
       "      <td>55.0</td>\n",
       "      <td>77.1</td>\n",
       "      <td>7.5</td>\n",
       "    </tr>\n",
       "  </tbody>\n",
       "</table>\n",
       "</div>"
      ],
      "text/plain": [
       "                               Name   Genre Platform  Year_of_Release  \\\n",
       "638    LEGO Harry Potter: Years 1-4  Action      Wii             2010   \n",
       "700    LEGO Harry Potter: Years 1-4  Action       DS             2010   \n",
       "1203   LEGO Harry Potter: Years 1-4  Action     X360             2010   \n",
       "1497   LEGO Harry Potter: Years 1-4  Action      PS3             2010   \n",
       "2993   LEGO Harry Potter: Years 1-4  Action      PSP             2010   \n",
       "14759  LEGO Harry Potter: Years 1-4  Action       PC             2010   \n",
       "\n",
       "       Critic_Score  Critic_Count  User_Score  User_Count  \\\n",
       "638            79.0          13.0         8.0        34.0   \n",
       "700            72.0           7.0         7.2         6.0   \n",
       "1203           79.0          58.0         8.0        62.0   \n",
       "1497           79.0          42.0         8.0        52.0   \n",
       "2993           71.0           4.0         NaN         NaN   \n",
       "14759          79.0          15.0         7.9        55.0   \n",
       "\n",
       "      Critic_Score_Benchmark User_Score_Benchmark  \n",
       "638                     77.1                  7.5  \n",
       "700                     77.1                  7.5  \n",
       "1203                    77.1                  7.5  \n",
       "1497                    77.1                  7.5  \n",
       "2993                    77.1                  7.5  \n",
       "14759                   77.1                  7.5  "
      ]
     },
     "execution_count": 78,
     "metadata": {},
     "output_type": "execute_result"
    }
   ],
   "source": [
    "eva_game()"
   ]
  },
  {
   "cell_type": "markdown",
   "metadata": {},
   "source": [
    "In my random sample, I got *LEGO Harry Potter: Years 1-4* which is a action game released in 2010 and have 6 different platform versions. \n",
    "- Its `Critic_Score` is around 79 for Wii, Xbox 360, PS3, and PC, but only has 72 and 71 in DS and PSP, seems the game does not perform well in the handheld game consoles. \n",
    "- Compared to its `Critic_Score_Benchmark` is 77.1, which is the average critic score for all action games with more than 20 critic count and 50 user count. It overall higher than the benchmark score. \n",
    "- The game's `Critic_Score` is overall higher than the benchmark score, so it seems this game is not bad. Well, if you are a fan of action games and a fan of Harry Potter, just give it a try. "
   ]
  },
  {
   "cell_type": "markdown",
   "metadata": {},
   "source": [
    "#### Q6: Can you create a function to generate a pie chart to show the regional cumulative sales in percentage by giving the name of a developer or publisher? "
   ]
  },
  {
   "cell_type": "markdown",
   "metadata": {},
   "source": [
    "Sounds interesting, let me do it."
   ]
  },
  {
   "cell_type": "code",
   "execution_count": 79,
   "metadata": {},
   "outputs": [],
   "source": [
    "def get_pie_RegionSales():\n",
    "    intput = input(\"Please type 'dev' for developer or type 'pub' for publisher, then press enter.\")\n",
    "    name = input(\"Thanks, next please type the full name of the developer/publisher you want to check, then press enter.\")\n",
    "    \n",
    "    # check the input is dev or pub then calculate the regional sales for the input name\n",
    "    if str(intput) == \"dev\":\n",
    "        sales = vgs_df[vgs_df.Developer == str(name)][['NA_Sales','EU_Sales','JP_Sales','Other_Sales']].sum()\n",
    "    \n",
    "        # create a function to inverse autopct\n",
    "        def make_autopct(sales):\n",
    "            def inverse_autopct(pct):\n",
    "                return '{p:.2f}% ({v:.2f} m)'.format(p = pct, v = pct*sum(sales)/100)\n",
    "            return inverse_autopct\n",
    "        \n",
    "        # start to plot\n",
    "        label = ['North America','Europe','Japan','Rest of the World'] \n",
    "        plt.pie(sales, \n",
    "                labels = label,\n",
    "                autopct = make_autopct(sales),\n",
    "                explode = [0.03, 0.03, 0.03, 0.03],\n",
    "                shadow = True,\n",
    "                startangle = 80)\n",
    "        plt.legend(loc = 4)\n",
    "        plt.title('Cumulative Regional Units Sold of Video Games that Developed by {}'.format(name),\n",
    "                  pad = 10)\n",
    "        \n",
    "    # if input is pub then check name for publisher\n",
    "    elif str(intput) == 'pub':       \n",
    "        sales = vgs_df[vgs_df.Publisher == str(name)][['NA_Sales','EU_Sales','JP_Sales','Other_Sales']].sum()\n",
    "  \n",
    "    # create a function to inverse autopct\n",
    "        def make_autopct(sales):\n",
    "            def inverse_autopct(pct):\n",
    "                return '{p:.2f}% ({v:.2f} m)'.format(p = pct, v = pct*sum(sales)/100)\n",
    "            return inverse_autopct\n",
    "\n",
    "    # start to plot\n",
    "        label = ['North America','Europe','Japan','Rest of the World'] \n",
    "        plt.pie(sales, \n",
    "                labels = label,\n",
    "                autopct = make_autopct(sales),\n",
    "                explode = [0.03, 0.03, 0.03, 0.03],\n",
    "                shadow = True,\n",
    "                startangle = 80)\n",
    "        plt.legend(loc = 4)\n",
    "        plt.title('Cumulative Regional Units Sold of Video Games that Published by {}'.format(name),\n",
    "                 pad = 10)\n",
    "        \n",
    "    return plt.show()"
   ]
  },
  {
   "cell_type": "code",
   "execution_count": null,
   "metadata": {},
   "outputs": [],
   "source": [
    "# to random select a publisher and extract the name\n",
    "vgs_df.sample(1).iat[0,4]"
   ]
  },
  {
   "cell_type": "code",
   "execution_count": null,
   "metadata": {},
   "outputs": [],
   "source": [
    "# to random select a developer and extract the name\n",
    "vgs_df.sample(1).iat[0,-2]"
   ]
  },
  {
   "cell_type": "code",
   "execution_count": 80,
   "metadata": {},
   "outputs": [
    {
     "name": "stdout",
     "output_type": "stream",
     "text": [
      "Please type 'dev' for developer or type 'pub' for publisher, then press enter.pub\n",
      "Thanks, next please type the full name of the developer/publisher you want to check, then press enter.Namco Bandai Games\n"
     ]
    },
    {
     "data": {
      "image/png": "[encoded data removed]",
      "text/plain": [
       "<Figure size 720x432 with 1 Axes>"
      ]
     },
     "metadata": {},
     "output_type": "display_data"
    }
   ],
   "source": [
    "get_pie_RegionSales()"
   ]
  },
  {
   "cell_type": "markdown",
   "metadata": {},
   "source": [
    "- In my case here, I randomly select a publisher called *Namco Bandai Games*, which is a Japanese multinational video game publisher headquartered in Tokyo, Japan. We can see that half of the cumulative units sold are in Japan, and the other around 45% are in North America and Europe. Seems they did a good job in the local region and not bad in the western world region. "
   ]
  },
  {
   "cell_type": "markdown",
   "metadata": {},
   "source": [
    "## Inferences and Conclusion\n",
    "\n",
    "- More than 75% of the video games were sold in North America and Europe since they were released. These two regions are two important markets for video games and related businesses.\n",
    "- There are about 6,000 games that were released between 2005 and 2010, that is about 3 games were released every day. \n",
    "- About 90% of the games sold are rated as E, T, and M based on the ESRB rating. \n",
    "- Action, sports, shooter, and role-playing are the top four genres among all video games. \n",
    "- The number one game in cumulative global unit sold is Wii Sports Wii version released in 2006 with a record of 82.54 million. \n",
    "- The number one game with the highest Critic Score is Grand Theft Auto IV X360 version released in 2008 with a score of 98.0 in Metacritic. \n",
    "- The number one game with the highest User Score is Breath of Fire III PSP version released in 2005 with a score of 9.7 in Metacritic. \n",
    "- The most popular genre in North America, Europe, Japan, and the rest of the world is action, action, role-playing, and action respectively. \n",
    "- Nintendo is the number one developer, with a cumulative global unit sold of 531.78 million for all their games that were released from 1980 to 2016. Compared to the total population worldwide in 2016 is about 7.4 billion, which means every one of fourteen people in the world has bought Nintendo’s game. \n",
    "- The most popular shooter game is Duck Hunt released in 1984, with a global unit sold of 28.31 million. "
   ]
  },
  {
   "cell_type": "markdown",
   "metadata": {},
   "source": [
    "## Future Work\n",
    "\n",
    "- In the future, for a better and updated analysis, I would like to scrape and update for latest released games, latest sales data, and Metacritic scores. \n",
    "- For the data visualization, I will try to plot other types of charts and plot multiple charts in one grid. \n",
    "- Further, I am planning to learn about modeling using libraries `SciPy`, `SciKit-Learn` and others. "
   ]
  },
  {
   "cell_type": "markdown",
   "metadata": {},
   "source": [
    "## Thank you for reading!\n",
    "I want to say thank you to Instructor [Aakash N S](https://twitter.com/aakashns) and also [Jovian](https://jovian.ai) for providing this great online course for free! \n",
    "\n",
    "\n",
    "To Python learners, enjoy coding!\\\n",
    "To game players, happy gaming! "
   ]
  },
  {
   "cell_type": "code",
   "execution_count": null,
   "metadata": {},
   "outputs": [
    {
     "data": {
      "application/javascript": [
       "window.require && require([\"base/js/namespace\"],function(Jupyter){Jupyter.notebook.save_checkpoint()})"
      ],
      "text/plain": [
       "<IPython.core.display.Javascript object>"
      ]
     },
     "metadata": {},
     "output_type": "display_data"
    }
   ],
   "source": [
    "# save and upload the notebook to jovian.ml using jovian.commit\n",
    "!pip install jovian --upgrade -q\n",
    "import jovian\n",
    "jovian.commit(project = 'eda_video_games_cumulative_sales_1980_2016')"
   ]
  }
 ],
 "metadata": {
  "kernelspec": {
   "display_name": "Python 3",
   "language": "python",
   "name": "python3"
  },
  "language_info": {
   "codemirror_mode": {
    "name": "ipython",
    "version": 3
   },
   "file_extension": ".py",
   "mimetype": "text/x-python",
   "name": "python",
   "nbconvert_exporter": "python",
   "pygments_lexer": "ipython3",
   "version": "3.8.8"
  }
 },
 "nbformat": 4,
 "nbformat_minor": 4
}
